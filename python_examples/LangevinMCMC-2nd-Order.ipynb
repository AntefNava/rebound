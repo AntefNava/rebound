{
 "cells": [
  {
   "cell_type": "code",
   "execution_count": 1,
   "metadata": {
    "collapsed": false
   },
   "outputs": [
    {
     "name": "stdout",
     "output_type": "stream",
     "text": [
      "---------------------------------\n",
      "Rebound version:     \t1.0.0\n",
      "Build on:            \tJun 15 2015 15:17:27\n",
      "Number of particles: \t0\n",
      "Simulation time:     \t0.000000\n",
      "---------------------------------\n"
     ]
    },
    {
     "name": "stderr",
     "output_type": "stream",
     "text": [
      ":0: FutureWarning: IPython widgets are experimental and may change in the future.\n"
     ]
    }
   ],
   "source": [
    "%matplotlib inline\n",
    "import rebound as r\n",
    "r.reset()\n",
    "import numpy as np\n",
    "import matplotlib.pyplot as plt\n",
    "r.status()\n",
    "from IPython.html.widgets import interact, interactive\n",
    "from IPython.display import display"
   ]
  },
  {
   "cell_type": "markdown",
   "metadata": {},
   "source": [
    "## Simulated data:"
   ]
  },
  {
   "cell_type": "code",
   "execution_count": 96,
   "metadata": {
    "collapsed": false
   },
   "outputs": [],
   "source": [
    "data_N = 10\n",
    "data_t = np.linspace(0.1,1,data_N)+0.005*np.random.rand(data_N)\n",
    "data_rv = 0.500883379885605*(np.sin(2.*np.pi*data_t/50.+np.pi/2.)+0.16*(np.random.rand(data_N)-0.5))"
   ]
  },
  {
   "cell_type": "code",
   "execution_count": 97,
   "metadata": {
    "collapsed": false,
    "scrolled": false
   },
   "outputs": [
    {
     "data": {
      "image/png": "[encoded data removed]",
      "text/plain": [
       "<matplotlib.figure.Figure at 0x115810050>"
      ]
     },
     "metadata": {},
     "output_type": "display_data"
    }
   ],
   "source": [
    "plt.scatter(data_t, data_rv);"
   ]
  },
  {
   "cell_type": "markdown",
   "metadata": {},
   "source": [
    "## Setting up simulations"
   ]
  },
  {
   "cell_type": "code",
   "execution_count": 98,
   "metadata": {
    "collapsed": false
   },
   "outputs": [],
   "source": [
    "def simulation_rv(cart):\n",
    "    r.reset()\n",
    "    r.add(m=1.)\n",
    "    r.add(a=cart[0],e=cart[1],anom=cart[2],omega=cart[3])\n",
    "    ps = r.particles\n",
    "    sim_rv = np.zeros(len(data_t))\n",
    "    for i,t in enumerate(data_t):\n",
    "        r.integrate(t)\n",
    "        sim_rv[i] = ps[1].vx\n",
    "    return sim_rv\n",
    "\n",
    "def simulation(cart):\n",
    "    r.reset()\n",
    "    numvar = 4\n",
    "    r.N_megnopp = numvar # 4 variation equations per particle\n",
    "    r.add(m=1.)\n",
    "    op = r.Particle(a=cart[0],e=cart[1],anom=cart[2],omega=cart[3])\n",
    "    \n",
    "    r.add(op)\n",
    "    N = r.N\n",
    "    \n",
    "    r.init_megno(0.)\n",
    "    ps = r.particles\n",
    "    \n",
    "    \n",
    "    delta = 1e-4\n",
    "    # First order\n",
    "    for l in range(numvar):\n",
    "        cart2 = cart.copy()\n",
    "        cart2[l] += delta\n",
    "        mp = r.Particle(primary=ps[0],a=cart2[0],e=np.clip(cart2[1],0.,0.9),anom=cart2[2],omega=cart2[3])\n",
    "\n",
    "        vari = N*l+1+N\n",
    "        ps[vari].x  = (mp.x  - ps[1].x  )\n",
    "        ps[vari].y  = (mp.y  - ps[1].y  )\n",
    "        ps[vari].z  = (mp.z  - ps[1].z  )\n",
    "        ps[vari].vx = (mp.vx - ps[1].vx )\n",
    "        ps[vari].vy = (mp.vy - ps[1].vy )\n",
    "        ps[vari].vz = (mp.vz - ps[1].vz )\n",
    "        \n",
    "    _id = 0\n",
    "    # Second order\n",
    "    for l in range(numvar):\n",
    "        for k in range(l+1):\n",
    "            cart2 = cart.copy()\n",
    "            cart2[l] += delta\n",
    "            mp = r.Particle(primary=ps[0],a=cart2[0],e=np.clip(cart2[1],0.,0.9),anom=cart2[2],omega=cart2[3])\n",
    "            cart2 = cart.copy()\n",
    "            cart2[l] -= delta\n",
    "            mm = r.Particle(primary=ps[0],a=cart2[0],e=np.clip(cart2[1],0.,0.9),anom=cart2[2],omega=cart2[3])\n",
    "            \n",
    "            vari = N*_id+1+N+numvar*N\n",
    "            ps[vari].x  = 1.*(mp.x  - 2.*ps[1].x  + mm.x )\n",
    "            ps[vari].y  = 1.*(mp.y  - 2.*ps[1].y  + mm.y )\n",
    "            ps[vari].z  = 1.*(mp.z  - 2.*ps[1].z  + mm.z )\n",
    "            ps[vari].vx = 1.*(mp.vx - 2.*ps[1].vx + mm.vx)\n",
    "            ps[vari].vy = 1.*(mp.vy - 2.*ps[1].vy + mm.vy)\n",
    "            ps[vari].vz = 1.*(mp.vz - 2.*ps[1].vz + mm.vz)\n",
    "            #if _id ==0:\n",
    "            #    print ps[vari].vx,ps[vari].vy\n",
    "            _id +=1\n",
    "    \n",
    "     \n",
    "    sim_rv = 0.\n",
    "    sim_rvd = np.zeros(numvar)\n",
    "    sim_rvd2 = np.zeros((numvar*(numvar+1)/2,2))\n",
    "    for i,t in enumerate(data_t):\n",
    "        r.integrate(t)\n",
    "        dv = ps[1].vx-data_rv[i]\n",
    "        sim_rv  += dv**2\n",
    "        for k in range(numvar):\n",
    "            idvar2 = (k*(k+1)/2+k)*N+N*numvar+N+1\n",
    "            sim_rvd[k] += 2.*(2.*ps[idvar2].vx+ps[k*N+1+N].vx)*(dv+ps[k*N+1+N].vx+ps[idvar2].vx)\n",
    "        _id = 0\n",
    "        for l in range(numvar):\n",
    "            for k in range(l+1):\n",
    "                idvar2 = _id*N+N*numvar+N+1\n",
    "\n",
    "                sim_rvd2[_id][0] += 2.*ps[idvar2].vx*(dv+ps[k*N+1+N].vx+0.5*ps[idvar2].vx) + 2.*(ps[k*N+1+N].vx+ps[idvar2].vx)**2\n",
    "                sim_rvd2[_id][1] += 2.*(ps[idvar2].vx+ps[k*N+1+N].vx)*(dv+ps[k*N+1+N].vx+0.5*ps[idvar2].vx)\n",
    "\n",
    "                #(ps[k*N+1+N].vx)**2 + 2.*dv*ps[idvar2].vx + 6.*ps[idvar2].vx*ps[l*N+1+N].vx + 3.*(ps[idvar2].vx)**2\n",
    "                 \n",
    "                #if _id ==0 and i == len(data_t)-1:\n",
    "                #    print ps[1].vx,ps[l*N+N+1].vx,ps[vari].vx\n",
    "                _id += 1\n",
    "    err  = np.sqrt(sim_rv)\n",
    "    errd = sim_rvd/(2.*delta*err)\n",
    "\n",
    "    #err = sim_rv\n",
    "    #errd = sim_rvd\n",
    "    #errd2 = sim_rvd2\n",
    "    \n",
    "    errd2m = np.zeros((numvar,numvar))\n",
    "    _id = 0\n",
    "    for l in range(numvar):\n",
    "        for k in range(l+1):\n",
    "            fdd =   sim_rvd2[_id][0]/(2.*(delta**2)*err) - (sim_rvd2[_id][1])**2/(4.*(delta**2)*(err**3))\n",
    "            #fdd =   (errd2[_id][0] -  errd2[_id][3])\n",
    "            #if _id==0:\n",
    "            #    print fdd, errd[0,0]-errd[0,1]\n",
    "            #print fdd, err\n",
    "            errd2m[l,k] = fdd\n",
    "            errd2m[k,l] = fdd\n",
    "            _id +=1\n",
    "    \n",
    "    #print err, -(errd-err)/delta, -(errd2-err)/(delta)\n",
    "    \n",
    "    return err, errd, errd2m"
   ]
  },
  {
   "cell_type": "markdown",
   "metadata": {},
   "source": [
    "## Visual Check"
   ]
  },
  {
   "cell_type": "code",
   "execution_count": 99,
   "metadata": {
    "collapsed": false
   },
   "outputs": [],
   "source": [
    "gamma = 0.05\n",
    "a0 = np.array([4.5,0.1,0.,-np.pi/2.]) # initial parameters\n",
    "a = a0.copy()\n",
    "sim_rvs = []             # for plotting\n",
    "\n",
    "lastp = 1e200\n",
    "lasta = a\n",
    "lastgradient = []\n",
    "\n",
    "sim_rv0 = simulation_rv(a)\n",
    "\n",
    "N_grid = 150\n",
    "a_s = np.linspace(4.0,8.0,N_grid)\n",
    "\n",
    "errs = np.zeros(N_grid)\n",
    "gradients = np.zeros(N_grid)\n",
    "hessians = np.zeros(N_grid)\n",
    "\n",
    "for i,at in enumerate(a_s):\n",
    "    a[0] = at\n",
    "    err, gradient, hessian = simulation(a)\n",
    "    #print gradient[0], hessian[0,0]\n",
    "    # print hessian\n",
    "    errs[i] = err\n",
    "    gradients[i] = gradient[0]\n",
    "    hessians[i] = hessian[0,0]\n",
    "    \n",
    "\n",
    "        "
   ]
  },
  {
   "cell_type": "code",
   "execution_count": 102,
   "metadata": {
    "collapsed": false,
    "scrolled": false
   },
   "outputs": [
    {
     "data": {
      "image/png": "[encoded data removed]",
      "text/plain": [
       "<matplotlib.figure.Figure at 0x117be9650>"
      ]
     },
     "metadata": {},
     "output_type": "display_data"
    },
    {
     "data": {
      "image/png": "[encoded data removed]",
      "text/plain": [
       "<matplotlib.figure.Figure at 0x1154bb150>"
      ]
     },
     "metadata": {},
     "output_type": "display_data"
    },
    {
     "data": {
      "image/png": "[encoded data removed]",
      "text/plain": [
       "<matplotlib.figure.Figure at 0x115543c90>"
      ]
     },
     "metadata": {},
     "output_type": "display_data"
    }
   ],
   "source": [
    "def widget_plot(ind):\n",
    "    ind = int(ind)\n",
    "    fig = plt.figure(figsize=(12,5))\n",
    "    plt.scatter(a_s, errs, color=\"k\");\n",
    "    \n",
    "    def f(a,i):\n",
    "        da = a - a_s[i] \n",
    "        return errs[i] + gradients[i]*da,  errs[i] + gradients[i]*da + 0.5*hessians[i]*da*da\n",
    "    \n",
    "    a_s_fine = np.linspace(a_s[0],a_s[-1],N_grid*10)\n",
    "    err_fine = np.zeros(N_grid*10)\n",
    "    err_fine2 = np.zeros(N_grid*10)\n",
    "    for i,a in enumerate(a_s_fine):\n",
    "        err_fine[i], err_fine2[i] = f(a,ind)\n",
    "    plt.plot(a_s_fine, err_fine, color=\"r\");\n",
    "    plt.plot(a_s_fine, err_fine2, color=\"#FFA500\");\n",
    "    plt.grid()\n",
    "\n",
    "\n",
    "    \n",
    "    gradient_direct = np.zeros(N_grid)\n",
    "    hessian_direct = np.zeros(N_grid)\n",
    "    for i,a in enumerate(a_s_fine):\n",
    "        if i>0 and i<N_grid-1:\n",
    "            gradient_direct[i] = (errs[i+1]-errs[i-1])/(a_s[i+1]-a_s[i-1])\n",
    "            hessian_direct[i]  = (errs[i+1]-2.*errs[i]+errs[i-1])/((a_s[i+1]-a_s[i])*(a_s[i]-a_s[i-1]))\n",
    "            \n",
    "    fig2 = plt.figure(figsize=(12,5))\n",
    "    plt.scatter(a_s, gradients, color=\"b\");\n",
    "    plt.scatter(a_s, gradient_direct, color=\"#aaaaff\",alpha=0.7);\n",
    "    plt.grid()\n",
    "\n",
    "    \n",
    "    fig3 = plt.figure(figsize=(12,5))\n",
    "    #plt.ylim([-.02,.02])\n",
    "    plt.scatter(a_s, hessians, color=\"g\");\n",
    "    plt.scatter(a_s, hessian_direct, color=\"#aaffaa\");\n",
    "    plt.grid()\n",
    "\n",
    "\n",
    "    \n",
    "\n",
    "    return fig, fig2, fig3\n",
    "\n",
    "\n",
    "w = interactive(widget_plot,\n",
    "                ind=(0,N_grid))\n",
    "\n",
    "display(w)"
   ]
  },
  {
   "cell_type": "code",
   "execution_count": 92,
   "metadata": {
    "collapsed": false
   },
   "outputs": [
    {
     "data": {
      "text/plain": [
       "array([ 0.02585589,  0.02542851,  0.02501099,  0.02460297,  0.02420426,\n",
       "        0.02381451,  0.02343348,  0.02306093,  0.02269667,  0.02234039,\n",
       "        0.0219919 ,  0.021651  ,  0.02131746,  0.02099108,  0.02067168,\n",
       "        0.02035905,  0.02005302,  0.01975346,  0.0194601 ,  0.01917286,\n",
       "        0.01889152,  0.01861598,  0.01834607,  0.01808167,  0.01782259,\n",
       "        0.01756874,  0.01732   ,  0.0170762 ,  0.01683729,  0.01660306,\n",
       "        0.01637348,  0.01614841,  0.01592776,  0.01571144,  0.01549933,\n",
       "        0.01529138,  0.01508751,  0.01488761,  0.01469163,  0.01449953,\n",
       "        0.01431125,  0.01412675,  0.01394602,  0.01376904,  0.0135958 ,\n",
       "        0.01342641,  0.01326091,  0.01309946,  0.01294226,  0.01278966,\n",
       "        0.01264214,  0.0125005 ,  0.01236586,  0.01224012,  0.01212634,\n",
       "        0.01202986,  0.01196054,  0.01193823,  0.01200805,  0.01229131,\n",
       "        0.0132154 ,  0.01728698,  0.10340922, -0.03745349, -0.01469519,\n",
       "       -0.01204485, -0.0111715 , -0.01073223, -0.01045008, -0.01023891,\n",
       "       -0.01006491, -0.00991261, -0.00977416, -0.00964514, -0.00952302,\n",
       "       -0.00940613, -0.00929341, -0.00918417, -0.00907794, -0.00897429,\n",
       "       -0.00887298, -0.0087738 , -0.00867663, -0.00858129, -0.00848764,\n",
       "       -0.0083957 , -0.00830531, -0.00821643, -0.008129  , -0.00804299,\n",
       "       -0.00795831, -0.00787499, -0.00779292, -0.00771212, -0.00763254,\n",
       "       -0.00755413, -0.0074769 , -0.00740081, -0.0073258 , -0.0072519 ,\n",
       "       -0.00717904, -0.00710724, -0.00703647, -0.00696666, -0.00689786,\n",
       "       -0.00683001, -0.00676312, -0.00669712, -0.00663204, -0.00656786,\n",
       "       -0.00650453, -0.00644209, -0.00638047, -0.00631968, -0.00625971,\n",
       "       -0.00620055, -0.00614216, -0.00608455, -0.0060277 , -0.00597155,\n",
       "       -0.00591619, -0.00586151, -0.00580756, -0.00575429, -0.00570169,\n",
       "       -0.0056498 , -0.00559855, -0.00554796, -0.00549801, -0.00544866,\n",
       "       -0.00539998, -0.00535187, -0.00530436, -0.00525745, -0.00521111,\n",
       "       -0.00516537, -0.00512016, -0.00507549, -0.00503139, -0.00498783,\n",
       "       -0.00494477, -0.00490226, -0.00486025, -0.00481875, -0.00477773,\n",
       "       -0.0047372 , -0.00469714, -0.00465759, -0.00461846, -0.00457982])"
      ]
     },
     "execution_count": 92,
     "metadata": {},
     "output_type": "execute_result"
    }
   ],
   "source": [
    "hessians"
   ]
  },
  {
   "cell_type": "code",
   "execution_count": null,
   "metadata": {
    "collapsed": true
   },
   "outputs": [],
   "source": []
  },
  {
   "cell_type": "code",
   "execution_count": 81,
   "metadata": {
    "collapsed": false
   },
   "outputs": [
    {
     "data": {
      "image/png": "[encoded data removed]",
      "text/plain": [
       "<matplotlib.figure.Figure at 0x115eaeed0>"
      ]
     },
     "metadata": {},
     "output_type": "display_data"
    }
   ],
   "source": [
    "sim_rv = simulation_rv(a0)\n",
    "fig = plt.figure(figsize=(12,5))  \n",
    "\n",
    "plt.plot(data_t,data_rv, color=\"r\");\n",
    "plt.plot(data_t,sim_rv, color=\"b\");\n",
    "\n"
   ]
  },
  {
   "cell_type": "code",
   "execution_count": null,
   "metadata": {
    "collapsed": true
   },
   "outputs": [],
   "source": []
  },
  {
   "cell_type": "code",
   "execution_count": null,
   "metadata": {
    "collapsed": true
   },
   "outputs": [],
   "source": []
  },
  {
   "cell_type": "code",
   "execution_count": null,
   "metadata": {
    "collapsed": true
   },
   "outputs": [],
   "source": []
  },
  {
   "cell_type": "code",
   "execution_count": null,
   "metadata": {
    "collapsed": true
   },
   "outputs": [],
   "source": []
  },
  {
   "cell_type": "code",
   "execution_count": null,
   "metadata": {
    "collapsed": true
   },
   "outputs": [],
   "source": []
  },
  {
   "cell_type": "code",
   "execution_count": null,
   "metadata": {
    "collapsed": true
   },
   "outputs": [],
   "source": []
  }
 ],
 "metadata": {
  "kernelspec": {
   "display_name": "Python 2",
   "language": "python",
   "name": "python2"
  },
  "language_info": {
   "codemirror_mode": {
    "name": "ipython",
    "version": 2
   },
   "file_extension": ".py",
   "mimetype": "text/x-python",
   "name": "python",
   "nbconvert_exporter": "python",
   "pygments_lexer": "ipython2",
   "version": "2.7.6"
  }
 },
 "nbformat": 4,
 "nbformat_minor": 0
}
