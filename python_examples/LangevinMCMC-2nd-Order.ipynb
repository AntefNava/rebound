{
 "cells": [
  {
   "cell_type": "code",
   "execution_count": 3,
   "metadata": {
    "collapsed": false
   },
   "outputs": [
    {
     "name": "stdout",
     "output_type": "stream",
     "text": [
      "---------------------------------\n",
      "Rebound version:     \t1.0.0\n",
      "Build on:            \tJun 10 2015 20:53:02\n",
      "Number of particles: \t0\n",
      "Simulation time:     \t0.000000\n",
      "---------------------------------\n"
     ]
    }
   ],
   "source": [
    "%matplotlib inline\n",
    "import rebound as r\n",
    "import numpy as np\n",
    "import matplotlib.pyplot as plt\n",
    "r.status()"
   ]
  },
  {
   "cell_type": "markdown",
   "metadata": {},
   "source": [
    "## Simulated data:"
   ]
  },
  {
   "cell_type": "code",
   "execution_count": 6,
   "metadata": {
    "collapsed": false
   },
   "outputs": [],
   "source": [
    "data_N = 30\n",
    "data_t = np.linspace(0.1,100,data_N)+0.5*np.random.rand(data_N)\n",
    "data_rv = 0.500883379885605*(np.sin(2.*np.pi*data_t/50.+0.2*np.pi)+0.6*(np.random.rand(data_N)-0.5))"
   ]
  },
  {
   "cell_type": "code",
   "execution_count": 7,
   "metadata": {
    "collapsed": false,
    "scrolled": false
   },
   "outputs": [
    {
     "data": {
      "image/png": "[encoded data removed]",
      "text/plain": [
       "<matplotlib.figure.Figure at 0x105ce7e90>"
      ]
     },
     "metadata": {},
     "output_type": "display_data"
    }
   ],
   "source": [
    "plt.scatter(data_t, data_rv);"
   ]
  },
  {
   "cell_type": "markdown",
   "metadata": {},
   "source": [
    "## Setting up simulations"
   ]
  },
  {
   "cell_type": "code",
   "execution_count": 43,
   "metadata": {
    "collapsed": false
   },
   "outputs": [],
   "source": [
    "def simulation_rv(cart):\n",
    "    r.reset()\n",
    "    r.add(m=1.)\n",
    "    r.add(a=cart[0],e=cart[1],anom=cart[2],omega=cart[3])\n",
    "    ps = r.particles\n",
    "    sim_rv = np.zeros(len(data_t))\n",
    "    for i,t in enumerate(data_t):\n",
    "        r.integrate(t)\n",
    "        sim_rv[i] = ps[1].vx\n",
    "    return sim_rv\n",
    "\n",
    "def simulation(cart):\n",
    "    r.reset()\n",
    "    numvar = 4\n",
    "    r.N_megnopp = numvar # 4 variation equations per particle\n",
    "    r.add(m=1.)\n",
    "    op = r.Particle(a=cart[0],e=cart[1],anom=cart[2],omega=cart[3])\n",
    "    \n",
    "    r.add(op)\n",
    "    N = r.N\n",
    "    \n",
    "    r.init_megno(0.)\n",
    "    ps = r.particles\n",
    "    \n",
    "    \n",
    "    delta = 1e-6\n",
    "    # First order\n",
    "    for l in range(numvar):\n",
    "        cart2 = cart.copy()\n",
    "        cart2[l] += delta\n",
    "        mp = r.Particle(primary=ps[0],a=cart2[0],e=np.clip(cart2[1],0.,0.9),anom=cart2[2],omega=cart2[3])\n",
    "\n",
    "        vari = (N*(l+1))+1\n",
    "        ps[vari].x  = ps[1].x  - mp.x\n",
    "        ps[vari].y  = ps[1].y  - mp.y\n",
    "        ps[vari].z  = ps[1].z  - mp.z\n",
    "        ps[vari].vx = ps[1].vx - mp.vx\n",
    "        ps[vari].vy = ps[1].vy - mp.vy\n",
    "        ps[vari].vz = ps[1].vz - mp.vz\n",
    "        \n",
    "    _id = 0\n",
    "    # Second order\n",
    "    for l in range(numvar):\n",
    "        varik1 = N+N*l+1\n",
    "        for k in range(l+1):\n",
    "            varik2 = N+N*k+1\n",
    "            vari = N+N*numvar+N*_id+1\n",
    "            ps[vari].x  = (ps[varik1].x  + ps[varik2].x )*delta\n",
    "            ps[vari].y  = (ps[varik1].y  + ps[varik2].y )*delta\n",
    "            ps[vari].z  = (ps[varik1].z  + ps[varik2].z )*delta\n",
    "            ps[vari].vx = (ps[varik1].vx + ps[varik2].vx)*delta\n",
    "            ps[vari].vy = (ps[varik1].vy + ps[varik2].vy)*delta\n",
    "            ps[vari].vz = (ps[varik1].vz + ps[varik2].vz)*delta            \n",
    "            _id += 1\n",
    "     \n",
    "    sim_rv = 0.\n",
    "    sim_rvd = np.zeros(numvar)\n",
    "    for i,t in enumerate(data_t):\n",
    "        print ps[(1+2)*N+1].vx\n",
    "        r.integrate(t)\n",
    "        sim_rv  += np.square(ps[1].vx-data_rv[i])\n",
    "        for k in range(numvar):\n",
    "            sim_rvd[k] += np.square(ps[1].vx+ps[(k+1)*N+1].vx-data_rv[i])\n",
    "    err  = np.sqrt(sim_rv)\n",
    "    errd = np.sqrt(sim_rvd)\n",
    "    \n",
    "    return err, -(errd-err)/delta"
   ]
  },
  {
   "cell_type": "markdown",
   "metadata": {},
   "source": [
    "## Gradient descent to find minimum"
   ]
  },
  {
   "cell_type": "code",
   "execution_count": 44,
   "metadata": {
    "collapsed": false
   },
   "outputs": [
    {
     "name": "stdout",
     "output_type": "stream",
     "text": [
      "5.89255650989e-07\n",
      "nan\n",
      "nan\n",
      "nan\n",
      "nan\n",
      "nan\n",
      "nan\n",
      "nan\n",
      "nan\n",
      "nan\n",
      "nan\n",
      "nan\n",
      "nan\n",
      "nan\n",
      "nan\n",
      "nan\n",
      "nan\n",
      "nan\n",
      "nan\n",
      "nan\n",
      "nan\n",
      "nan\n",
      "nan\n",
      "nan\n",
      "nan\n",
      "nan\n",
      "nan\n",
      "nan\n",
      "nan\n",
      "nan\n"
     ]
    },
    {
     "ename": "ValueError",
     "evalue": "operands could not be broadcast together with shapes (4,) (0,) ",
     "output_type": "error",
     "traceback": [
      "\u001b[0;31m---------------------------------------------------------------------------\u001b[0m",
      "\u001b[0;31mValueError\u001b[0m                                Traceback (most recent call last)",
      "\u001b[0;32m<ipython-input-44-baeb25480d60>\u001b[0m in \u001b[0;36m<module>\u001b[0;34m()\u001b[0m\n\u001b[1;32m     26\u001b[0m     \u001b[0;32melse\u001b[0m\u001b[0;34m:\u001b[0m\u001b[0;34m\u001b[0m\u001b[0m\n\u001b[1;32m     27\u001b[0m         \u001b[0mgamma\u001b[0m \u001b[0;34m=\u001b[0m \u001b[0;36m1e-1\u001b[0m\u001b[0;34m*\u001b[0m\u001b[0mnp\u001b[0m\u001b[0;34m.\u001b[0m\u001b[0mpower\u001b[0m\u001b[0;34m(\u001b[0m\u001b[0;36m10.\u001b[0m\u001b[0;34m,\u001b[0m\u001b[0;34m-\u001b[0m\u001b[0;36m6.\u001b[0m\u001b[0;34m*\u001b[0m\u001b[0mnp\u001b[0m\u001b[0;34m.\u001b[0m\u001b[0mrandom\u001b[0m\u001b[0;34m.\u001b[0m\u001b[0mrandom\u001b[0m\u001b[0;34m(\u001b[0m\u001b[0;34m)\u001b[0m\u001b[0;34m)\u001b[0m\u001b[0;34m\u001b[0m\u001b[0m\n\u001b[0;32m---> 28\u001b[0;31m         \u001b[0ma\u001b[0m \u001b[0;34m=\u001b[0m \u001b[0mnp\u001b[0m\u001b[0;34m.\u001b[0m\u001b[0msubtract\u001b[0m\u001b[0;34m(\u001b[0m\u001b[0mlasta\u001b[0m\u001b[0;34m,\u001b[0m\u001b[0mgamma\u001b[0m\u001b[0;34m*\u001b[0m\u001b[0mlastgradient\u001b[0m\u001b[0;34m)\u001b[0m\u001b[0;34m\u001b[0m\u001b[0m\n\u001b[0m\u001b[1;32m     29\u001b[0m         \u001b[0ma\u001b[0m\u001b[0;34m[\u001b[0m\u001b[0;36m1\u001b[0m\u001b[0;34m]\u001b[0m \u001b[0;34m=\u001b[0m \u001b[0mnp\u001b[0m\u001b[0;34m.\u001b[0m\u001b[0mclip\u001b[0m\u001b[0;34m(\u001b[0m\u001b[0ma\u001b[0m\u001b[0;34m[\u001b[0m\u001b[0;36m1\u001b[0m\u001b[0;34m]\u001b[0m\u001b[0;34m,\u001b[0m\u001b[0;36m0.\u001b[0m\u001b[0;34m,\u001b[0m\u001b[0;36m0.9\u001b[0m\u001b[0;34m)\u001b[0m\u001b[0;34m\u001b[0m\u001b[0m\n\u001b[1;32m     30\u001b[0m \u001b[0;34m\u001b[0m\u001b[0m\n",
      "\u001b[0;31mValueError\u001b[0m: operands could not be broadcast together with shapes (4,) (0,) "
     ]
    }
   ],
   "source": [
    "gamma = 0.000005\n",
    "a = np.array([4.5,0.6,0.,0.]) # initial parameters\n",
    "sim_rvs = []             # for plotting\n",
    "errs = []\n",
    "lastp = 1e200\n",
    "lasta = a\n",
    "lastgradient = []\n",
    "\n",
    "sim_rv0 = simulation_rv(a)\n",
    "\n",
    "for i in range(600): \n",
    "    err, gradient = simulation(a)\n",
    "\n",
    "    p = err\n",
    "    if p/lastp < 1.+0.5*np.random.random():\n",
    "        # Accept new step\n",
    "        lastp = p\n",
    "        lasta = a\n",
    "        sim_rvs.append(sim_rv)\n",
    "        errs.append(p)\n",
    "        # New step proposal\n",
    "        gamma = 1e-1*np.power(10.,-6.*np.random.random())\n",
    "        a = np.subtract(a,gamma*gradient)\n",
    "        a[1] = np.clip(a[1],0.,0.9)\n",
    "        lastgradient = gradient.copy()\n",
    "    else:\n",
    "        gamma = 1e-1*np.power(10.,-6.*np.random.random())\n",
    "        a = np.subtract(lasta,gamma*lastgradient)\n",
    "        a[1] = np.clip(a[1],0.,0.9)\n",
    "\n",
    "sim_rv1 = simulation_rv(a)\n",
    "\n",
    "        "
   ]
  },
  {
   "cell_type": "code",
   "execution_count": 61,
   "metadata": {
    "collapsed": false
   },
   "outputs": [
    {
     "data": {
      "image/png": "[encoded data removed]",
      "text/plain": [
       "<matplotlib.figure.Figure at 0x10e1a3790>"
      ]
     },
     "metadata": {},
     "output_type": "display_data"
    }
   ],
   "source": [
    "fig = plt.figure(figsize=(12,5))\n",
    "plt.scatter(data_t, data_rv, color=\"k\");\n",
    "plt.plot(data_t, data_rv, color=\"k\");\n",
    "plt.plot(data_t, sim_rv0,color=\"g\");\n",
    "plt.plot(data_t, sim_rv1,color=\"r\");\n"
   ]
  },
  {
   "cell_type": "markdown",
   "metadata": {},
   "source": [
    "Black curve is data, green curve is initial guess, red curve is final \"fit\"."
   ]
  },
  {
   "cell_type": "code",
   "execution_count": 59,
   "metadata": {
    "collapsed": false
   },
   "outputs": [
    {
     "data": {
      "image/png": "[encoded data removed]",
      "text/plain": [
       "<matplotlib.figure.Figure at 0x10dd4be50>"
      ]
     },
     "metadata": {},
     "output_type": "display_data"
    }
   ],
   "source": [
    "plt.plot(errs);"
   ]
  },
  {
   "cell_type": "code",
   "execution_count": null,
   "metadata": {
    "collapsed": true
   },
   "outputs": [],
   "source": []
  }
 ],
 "metadata": {
  "kernelspec": {
   "display_name": "Python 2",
   "language": "python",
   "name": "python2"
  },
  "language_info": {
   "codemirror_mode": {
    "name": "ipython",
    "version": 2
   },
   "file_extension": ".py",
   "mimetype": "text/x-python",
   "name": "python",
   "nbconvert_exporter": "python",
   "pygments_lexer": "ipython2",
   "version": "2.7.6"
  }
 },
 "nbformat": 4,
 "nbformat_minor": 0
}
