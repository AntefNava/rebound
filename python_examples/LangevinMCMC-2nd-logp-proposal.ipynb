{
 "cells": [
  {
   "cell_type": "code",
   "execution_count": 3,
   "metadata": {
    "collapsed": false
   },
   "outputs": [
    {
     "name": "stdout",
     "output_type": "stream",
     "text": [
      "---------------------------------\n",
      "Rebound version:     \t1.1.0\n",
      "Build on:            \tJun 24 2015 10:13:57\n",
      "Number of particles: \t0\n",
      "Simulation time:     \t0.000000\n",
      "---------------------------------\n"
     ]
    }
   ],
   "source": [
    "%matplotlib inline\n",
    "import rebound as r\n",
    "r.reset()\n",
    "import numpy as np\n",
    "from scipy import stats\n",
    "import matplotlib.pyplot as plt\n",
    "r.status()\n",
    "from IPython.html.widgets import interact, interactive\n",
    "from IPython.display import display"
   ]
  },
  {
   "cell_type": "markdown",
   "metadata": {},
   "source": [
    "## Simulated data:"
   ]
  },
  {
   "cell_type": "code",
   "execution_count": 4,
   "metadata": {
    "collapsed": false
   },
   "outputs": [
    {
     "data": {
      "image/png": "[encoded data removed]",
      "text/plain": [
       "<matplotlib.figure.Figure at 0x105577550>"
      ]
     },
     "metadata": {},
     "output_type": "display_data"
    }
   ],
   "source": [
    "data_N = 40\n",
    "data_t = np.linspace(0.,50.,data_N)+0.0005*np.random.rand(data_N)\n",
    "data_rv = 0.500883379885605*(np.sin(2.*np.pi*data_t/50.+np.pi/2.)+0.4*(np.random.rand(data_N)-0.5))\n",
    "plt.scatter(data_t, data_rv);"
   ]
  },
  {
   "cell_type": "markdown",
   "metadata": {},
   "source": [
    "## Setting up simulations"
   ]
  },
  {
   "cell_type": "code",
   "execution_count": 68,
   "metadata": {
    "collapsed": false
   },
   "outputs": [
    {
     "data": {
      "image/png": "[encoded data removed]",
      "text/plain": [
       "<matplotlib.figure.Figure at 0x1092163d0>"
      ]
     },
     "metadata": {},
     "output_type": "display_data"
    }
   ],
   "source": [
    "numvar = 4\n",
    "N = 2\n",
    "def varid2(l,k):\n",
    "    if k>l:\n",
    "        raise Exception(\"error\")\n",
    "    if l>=numvar:\n",
    "        raise Exception(\"error\")\n",
    "    var = l*(l+1)/2+k\n",
    "    return var*N+1+N+N*numvar\n",
    "def varid1(l):\n",
    "    if l>=numvar:\n",
    "        raise Exception(\"error\")\n",
    "    return N*l+1+N\n",
    "    \n",
    "def simulation(cart):\n",
    "    r.reset()\n",
    "    r.N_megnopp = numvar \n",
    "    r.add(m=1.)\n",
    "    op = r.Particle(a=cart[1],e=(np.tanh(cart[0])+1.)/2.,anom=cart[2],omega=cart[3])\n",
    "    r.add(op)\n",
    "    N = r.N\n",
    "    r.init_megno(0.)\n",
    "    ps = r.particles\n",
    "    \n",
    "    \n",
    "    delta = 1e-4\n",
    "    # First order\n",
    "    for l in range(numvar):\n",
    "        cart2 = cart.copy()\n",
    "        cart2[l] += delta/2.\n",
    "        mp = r.Particle(primary=ps[0],a=cart2[1],e=(np.tanh(cart2[0])+1.)/2.,anom=cart2[2],omega=cart2[3])\n",
    "        cart2 = cart.copy()\n",
    "        cart2[l] -= delta/2.\n",
    "        mm = r.Particle(primary=ps[0],a=cart2[1],e=(np.tanh(cart2[0])+1.)/2.,anom=cart2[2],omega=cart2[3])\n",
    "\n",
    "        vari = varid1(l)\n",
    "        ps[vari].x  = (mp.x  - mm.x  )\n",
    "        ps[vari].y  = (mp.y  - mm.y  )\n",
    "        ps[vari].z  = (mp.z  - mm.z  )\n",
    "        ps[vari].vx = (mp.vx - mm.vx )\n",
    "        ps[vari].vy = (mp.vy - mm.vy )\n",
    "        ps[vari].vz = (mp.vz - mm.vz )\n",
    "        \n",
    "    # Second order\n",
    "    for l in range(numvar):\n",
    "        for k in range(l+1):\n",
    "            fac = 2.\n",
    "            cart2 = cart.copy()\n",
    "            cart2[l] += delta/fac\n",
    "            cart2[k] += delta/fac\n",
    "            mpp = r.Particle(primary=ps[0],a=cart2[1],e=(np.tanh(cart2[0])+1.)/2.,anom=cart2[2],omega=cart2[3])\n",
    "            cart2 = cart.copy()\n",
    "            cart2[l] += delta/fac\n",
    "            cart2[k] -= delta/fac\n",
    "            mpm = r.Particle(primary=ps[0],a=cart2[1],e=(np.tanh(cart2[0])+1.)/2.,anom=cart2[2],omega=cart2[3])\n",
    "            cart2 = cart.copy()\n",
    "            cart2[l] -= delta/fac\n",
    "            cart2[k] += delta/fac\n",
    "            mmp = r.Particle(primary=ps[0],a=cart2[1],e=(np.tanh(cart2[0])+1.)/2.,anom=cart2[2],omega=cart2[3])\n",
    "            cart2 = cart.copy()\n",
    "            cart2[l] -= delta/fac\n",
    "            cart2[k] -= delta/fac\n",
    "            mmm = r.Particle(primary=ps[0],a=cart2[1],e=(np.tanh(cart2[0])+1.)/2.,anom=cart2[2],omega=cart2[3])\n",
    "            \n",
    "            vari2 = varid2(l,k)\n",
    "            ps[vari2].x  = mpp.x  - mpm.x  - mmp.x  + mmm.x\n",
    "            ps[vari2].y  = mpp.y  - mpm.y  - mmp.y  + mmm.y \n",
    "            ps[vari2].z  = mpp.z  - mpm.z  - mmp.z  + mmm.z \n",
    "            ps[vari2].vx = mpp.vx - mpm.vx - mmp.vx + mmm.vx\n",
    "            ps[vari2].vy = mpp.vy - mpm.vy - mmp.vy + mmm.vy\n",
    "            ps[vari2].vz = mpp.vz - mpm.vz - mmp.vz + mmm.vz\n",
    "    \n",
    "    \n",
    "    ##################################################################\n",
    "    # INTEGRATION\n",
    "    logp    = 0.\n",
    "    logp_d  = np.zeros(numvar)\n",
    "    logp_d2 = np.zeros((numvar*(numvar+1)/2,2))\n",
    "    for i,t in enumerate(data_t):\n",
    "        r.integrate(t)\n",
    "        dv = ps[1].vx-data_rv[i]\n",
    "        logp  += -dv**2\n",
    "        for k in range(numvar):\n",
    "            vari1 = varid1(k)\n",
    "            logp_d[k] += -2.*ps[vari1].vx/delta * dv\n",
    "        _id = 0\n",
    "        for l in range(numvar):\n",
    "            for k in range(l+1):\n",
    "                vari2 = varid2(l,k)\n",
    "                vari1l = varid1(l)\n",
    "                vari1k = varid1(k)\n",
    "                logp_d2[_id][0] += -2.*(ps[vari1l].vx * ps[vari1k].vx)/(delta*delta)\n",
    "                # Expectation value removes next line\n",
    "                logp_d2[_id][1] += -2.*(ps[vari2].vx * dv)/(delta*delta)\n",
    "                _id += 1\n",
    "    \n",
    "    logp_d2m = np.zeros((numvar,numvar))\n",
    "    _id = 0\n",
    "    for l in range(numvar):\n",
    "        for k in range(l+1):\n",
    "            fdd = logp_d2[_id][0] + logp_d2[_id][1]\n",
    "            logp_d2m[l,k] = fdd\n",
    "            logp_d2m[k,l] = fdd\n",
    "            _id +=1\n",
    "    \n",
    "    return logp, logp_d, logp_d2m\n",
    "\n",
    "a0 = np.array([-10.,3.5,0.,-np.pi/2.]) # initial parameters\n",
    "a = a0.copy()\n",
    "\n",
    "N_param = 4\n",
    "N_steps = 100\n",
    "epsilon = 0.5\n",
    "errs = np.zeros(N_steps)\n",
    "\n",
    "def softabs(hessian):\n",
    "    alpha = 0.01\n",
    "    lam, Q = np.linalg.eig(-hessian)\n",
    "    lam_twig = lam*1./np.tanh(alpha*lam)\n",
    "    H_twig = np.dot(Q,np.dot(np.diag(lam_twig),Q.T))    \n",
    "    #print lam\n",
    "    #print lam_twig\n",
    "    return H_twig\n",
    "\n",
    "first = 1\n",
    "for i in range(N_steps):\n",
    "    if first==1:\n",
    "        first = 0\n",
    "        logp, gradient, hessian = simulation(a)\n",
    "        G     = softabs(hessian)\n",
    "        Ginv  = np.linalg.inv(G)\n",
    "        Gsqrt = np.linalg.inv(np.linalg.cholesky(G))    \n",
    "\n",
    "\n",
    "    \n",
    "    astar = a + epsilon**2 * np.dot(Ginv, gradient)/2. + epsilon * np.dot(Gsqrt, np.random.normal(0.,1.,N_param))\n",
    "    #astar = a + epsilon * np.dot(Gsqrt, np.random.normal(0.,1.,N_param))\n",
    "\n",
    "    \n",
    "    logpstar, gradientstar, hessianstar = simulation(astar)\n",
    "    Gstar     = softabs(hessianstar)\n",
    "    Ginvstar  = np.linalg.inv(Gstar)\n",
    "    Gsqrtstar = np.linalg.inv(np.linalg.cholesky(Gstar))\n",
    "\n",
    "    \n",
    "    cov = epsilon**2 * Ginv\n",
    "    covstar = epsilon**2 * Ginvstar\n",
    "    \n",
    "    var     = stats.multivariate_normal(astar, cov=cov)\n",
    "    varstar = stats.multivariate_normal(a, cov=covstar)\n",
    "    \n",
    "    q1 = var.pdf(a)\n",
    "    q2 = varstar.pdf(astar)\n",
    "    #print \"%.8e  %.8e  %.8e\" % (float(q1/q2), float(q1), float(q2))\n",
    "   \n",
    "    if min(1.,np.exp(logpstar-logp)*q2/q1) > np.random.uniform():\n",
    "        a = astar\n",
    "        logp = logpstar\n",
    "        gradient = gradientstar\n",
    "        hessian = hessianstar\n",
    "        G = Gstar\n",
    "        Ginv = Ginvstar\n",
    "        Gsqrt = Gsqrtstar \n",
    "    \n",
    "    \n",
    "    #print a\n",
    "    #print astar\n",
    "    errs[i] = a[1]\n",
    "    \n",
    "fig1 = plt.figure(figsize=(12,5))\n",
    "plt.plot(range(N_steps), errs, color=\"r\");\n",
    "plt.grid()\n",
    "    \n",
    " "
   ]
  },
  {
   "cell_type": "code",
   "execution_count": null,
   "metadata": {
    "collapsed": false
   },
   "outputs": [],
   "source": []
  },
  {
   "cell_type": "code",
   "execution_count": null,
   "metadata": {
    "collapsed": true
   },
   "outputs": [],
   "source": []
  },
  {
   "cell_type": "code",
   "execution_count": null,
   "metadata": {
    "collapsed": true
   },
   "outputs": [],
   "source": []
  },
  {
   "cell_type": "code",
   "execution_count": null,
   "metadata": {
    "collapsed": true
   },
   "outputs": [],
   "source": []
  },
  {
   "cell_type": "code",
   "execution_count": null,
   "metadata": {
    "collapsed": true
   },
   "outputs": [],
   "source": []
  }
 ],
 "metadata": {
  "kernelspec": {
   "display_name": "Python 2",
   "language": "python",
   "name": "python2"
  },
  "language_info": {
   "codemirror_mode": {
    "name": "ipython",
    "version": 2
   },
   "file_extension": ".py",
   "mimetype": "text/x-python",
   "name": "python",
   "nbconvert_exporter": "python",
   "pygments_lexer": "ipython2",
   "version": "2.7.6"
  }
 },
 "nbformat": 4,
 "nbformat_minor": 0
}
