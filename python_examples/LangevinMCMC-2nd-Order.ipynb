{
 "cells": [
  {
   "cell_type": "code",
   "execution_count": 2,
   "metadata": {
    "collapsed": false
   },
   "outputs": [
    {
     "name": "stdout",
     "output_type": "stream",
     "text": [
      "---------------------------------\n",
      "Rebound version:     \t1.0.0\n",
      "Build on:            \tJun 13 2015 10:38:11\n",
      "Number of particles: \t0\n",
      "Simulation time:     \t0.000000\n",
      "---------------------------------\n"
     ]
    }
   ],
   "source": [
    "%matplotlib inline\n",
    "import rebound as r\n",
    "r.reset()\n",
    "import numpy as np\n",
    "import matplotlib.pyplot as plt\n",
    "r.status()\n",
    "from IPython.html.widgets import interact, interactive\n",
    "from IPython.display import display"
   ]
  },
  {
   "cell_type": "markdown",
   "metadata": {},
   "source": [
    "## Simulated data:"
   ]
  },
  {
   "cell_type": "code",
   "execution_count": 62,
   "metadata": {
    "collapsed": false
   },
   "outputs": [],
   "source": [
    "data_N = 30\n",
    "data_t = np.linspace(0.1,1,data_N)+0.5*np.random.rand(data_N)\n",
    "data_rv = 0.500883379885605*(np.sin(2.*np.pi*data_t/50.+0.2*np.pi)+0.16*(np.random.rand(data_N)-0.5))"
   ]
  },
  {
   "cell_type": "code",
   "execution_count": 63,
   "metadata": {
    "collapsed": false,
    "scrolled": false
   },
   "outputs": [
    {
     "data": {
      "image/png": "[encoded data removed]",
      "text/plain": [
       "<matplotlib.figure.Figure at 0x10d9d4710>"
      ]
     },
     "metadata": {},
     "output_type": "display_data"
    }
   ],
   "source": [
    "plt.scatter(data_t, data_rv);"
   ]
  },
  {
   "cell_type": "markdown",
   "metadata": {},
   "source": [
    "## Setting up simulations"
   ]
  },
  {
   "cell_type": "code",
   "execution_count": 75,
   "metadata": {
    "collapsed": false
   },
   "outputs": [],
   "source": [
    "def simulation_rv(cart):\n",
    "    r.reset()\n",
    "    r.add(m=1.)\n",
    "    r.add(a=cart[0],e=cart[1],anom=cart[2],omega=cart[3])\n",
    "    ps = r.particles\n",
    "    sim_rv = np.zeros(len(data_t))\n",
    "    for i,t in enumerate(data_t):\n",
    "        r.integrate(t)\n",
    "        sim_rv[i] = ps[1].vx\n",
    "    return sim_rv\n",
    "\n",
    "def simulation(cart):\n",
    "    r.reset()\n",
    "    numvar = 4\n",
    "    r.N_megnopp = numvar # 4 variation equations per particle\n",
    "    r.add(m=1.)\n",
    "    op = r.Particle(a=cart[0],e=cart[1],anom=cart[2],omega=cart[3])\n",
    "    \n",
    "    r.add(op)\n",
    "    N = r.N\n",
    "    \n",
    "    r.init_megno(0.)\n",
    "    ps = r.particles\n",
    "    \n",
    "    \n",
    "    delta = 1e-4\n",
    "    # First order\n",
    "    for l in range(numvar):\n",
    "        cart2 = cart.copy()\n",
    "        cart2[l] += delta\n",
    "        mp = r.Particle(primary=ps[0],a=cart2[0],e=np.clip(cart2[1],0.,0.9),anom=cart2[2],omega=cart2[3])\n",
    "\n",
    "        vari = N*l+1+N\n",
    "        ps[vari].x  = (mp.x  - ps[1].x  )\n",
    "        ps[vari].y  = (mp.y  - ps[1].y  )\n",
    "        ps[vari].z  = (mp.z  - ps[1].z  )\n",
    "        ps[vari].vx = (mp.vx - ps[1].vx )\n",
    "        ps[vari].vy = (mp.vy - ps[1].vy )\n",
    "        ps[vari].vz = (mp.vz - ps[1].vz )\n",
    "        \n",
    "    _id = 0\n",
    "    # Second order\n",
    "    for l in range(numvar):\n",
    "        for k in range(l+1):\n",
    "            cart2 = cart.copy()\n",
    "            cart2[l] += delta\n",
    "            mp = r.Particle(primary=ps[0],a=cart2[0],e=np.clip(cart2[1],0.,0.9),anom=cart2[2],omega=cart2[3])\n",
    "            cart2 = cart.copy()\n",
    "            cart2[l] -= delta\n",
    "            mm = r.Particle(primary=ps[0],a=cart2[0],e=np.clip(cart2[1],0.,0.9),anom=cart2[2],omega=cart2[3])\n",
    "            \n",
    "            vari = N*_id+1+N+numvar*N\n",
    "            ps[vari].x  = .5*(mp.x  - 2.*ps[1].x  + mm.x )\n",
    "            ps[vari].y  = .5*(mp.y  - 2.*ps[1].y  + mm.y )\n",
    "            ps[vari].z  = .5*(mp.z  - 2.*ps[1].z  + mm.z )\n",
    "            ps[vari].vx = .5*(mp.vx - 2.*ps[1].vx + mm.vx)\n",
    "            ps[vari].vy = .5*(mp.vy - 2.*ps[1].vy + mm.vy)\n",
    "            ps[vari].vz = .5*(mp.vz - 2.*ps[1].vz + mm.vz)\n",
    "            #if _id ==0:\n",
    "            #    print ps[vari].vx,ps[vari].vy\n",
    "            _id +=1\n",
    "    \n",
    "     \n",
    "    sim_rv = 0.\n",
    "    sim_rvd = np.zeros(numvar)\n",
    "    sim_rvd2 = np.zeros(numvar*(numvar+1)/2)\n",
    "    for i,t in enumerate(data_t):\n",
    "        r.integrate(t)\n",
    "        dv = ps[1].vx-data_rv[i]\n",
    "        sim_rv  += dv**2\n",
    "        for k in range(numvar):\n",
    "            idvar2 = (k*(k+1)/2+k)*N+N*numvar+N+1\n",
    "            sim_rvd[k] += 2.*(2.*ps[idvar2].vx+ps[k*N+1+N].vx)*(dv+ps[k*N+1+N].vx+ps[idvar2].vx)\n",
    "        _id = 0\n",
    "        for l in range(numvar):\n",
    "            for k in range(l+1):\n",
    "                idvar2 = _id*N+N*numvar+N+1\n",
    "\n",
    "                d1 = 4.*ps[idvar2].vx*(dv+ps[k*N+1+N].vx+ps[idvar2].vx) + 2.*(ps[k*N+1+N].vx+2.*ps[idvar2].vx)**2\n",
    "                \n",
    "                sim_rvd2[_id] += 2.*ps[idvar2].vx*(dv+ps[k*N+1+N].vx+1./2.*ps[idvar2].vx)\n",
    "                #(ps[k*N+1+N].vx)**2 + 2.*dv*ps[idvar2].vx + 6.*ps[idvar2].vx*ps[l*N+1+N].vx + 3.*(ps[idvar2].vx)**2\n",
    "                 \n",
    "                #if _id ==0 and i == len(data_t)-1:\n",
    "                #    print ps[1].vx,ps[l*N+N+1].vx,ps[vari].vx\n",
    "                _id += 1\n",
    "    err  = np.sqrt(sim_rv)\n",
    "    errd = sim_rvd/(2.*delta*err)\n",
    "\n",
    "    #err = sim_rv\n",
    "    #errd = sim_rvd\n",
    "    #errd2 = sim_rvd2\n",
    "    \n",
    "    errd2m = np.zeros((numvar,numvar))\n",
    "    _id = 0\n",
    "    for l in range(numvar):\n",
    "        for k in range(l+1):\n",
    "            fdd =   -sim_rvd[k]*sim_rvd[l]/(4.*(delta**2)*(err**3)) + sim_rvd2[_id]/(2.*(delta**2)*err)\n",
    "            #fdd =   (errd2[_id][0] -  errd2[_id][3])\n",
    "            #if _id==0:\n",
    "            #    print fdd, errd[0,0]-errd[0,1]\n",
    "            #print fdd, err\n",
    "            errd2m[l,k] = fdd\n",
    "            errd2m[k,l] = fdd\n",
    "            _id +=1\n",
    "    \n",
    "    #print err, -(errd-err)/delta, -(errd2-err)/(delta)\n",
    "    \n",
    "    return err, errd, errd2m"
   ]
  },
  {
   "cell_type": "markdown",
   "metadata": {},
   "source": [
    "## Visual Check"
   ]
  },
  {
   "cell_type": "code",
   "execution_count": 76,
   "metadata": {
    "collapsed": false
   },
   "outputs": [],
   "source": [
    "gamma = 0.05\n",
    "a = np.array([4.5,0.6,0.,0.]) # initial parameters\n",
    "sim_rvs = []             # for plotting\n",
    "\n",
    "lastp = 1e200\n",
    "lasta = a\n",
    "lastgradient = []\n",
    "\n",
    "sim_rv0 = simulation_rv(a)\n",
    "\n",
    "N_grid = 150\n",
    "a_s = np.linspace(4.0,7.0,N_grid)\n",
    "\n",
    "errs = np.zeros(N_grid)\n",
    "gradients = np.zeros(N_grid)\n",
    "hessians = np.zeros(N_grid)\n",
    "\n",
    "for i,at in enumerate(a_s):\n",
    "    a[0] = at\n",
    "    err, gradient, hessian = simulation(a)\n",
    "    #print gradient[0], hessian[0,0]\n",
    "    # print hessian\n",
    "    errs[i] = err\n",
    "    gradients[i] = gradient[0]\n",
    "    hessians[i] = hessian[0,0]\n",
    "    \n",
    "\n",
    "        "
   ]
  },
  {
   "cell_type": "code",
   "execution_count": 77,
   "metadata": {
    "collapsed": false
   },
   "outputs": [
    {
     "data": {
      "image/png": "[encoded data removed]",
      "text/plain": [
       "<matplotlib.figure.Figure at 0x10dfee550>"
      ]
     },
     "metadata": {},
     "output_type": "display_data"
    },
    {
     "data": {
      "image/png": "[encoded data removed]",
      "text/plain": [
       "<matplotlib.figure.Figure at 0x10de64150>"
      ]
     },
     "metadata": {},
     "output_type": "display_data"
    }
   ],
   "source": [
    "def widget_plot(ind):\n",
    "    ind = int(ind)\n",
    "    fig = plt.figure(figsize=(12,5))\n",
    "    plt.ylim([2,4])\n",
    "    plt.scatter(a_s, errs, color=\"k\");\n",
    "    \n",
    "    def f(a,i):\n",
    "        da = a - a_s[i] \n",
    "        return errs[i] + gradients[i]*da,  errs[i] + gradients[i]*da + 0.5*hessians[i]*da*da\n",
    "    \n",
    "    a_s_fine = np.linspace(a_s[0],a_s[-1],N_grid*10)\n",
    "    err_fine = np.zeros(N_grid*10)\n",
    "    err_fine2 = np.zeros(N_grid*10)\n",
    "    for i,a in enumerate(a_s_fine):\n",
    "        err_fine[i], err_fine2[i] = f(a,ind)\n",
    "    plt.plot(a_s_fine, err_fine, color=\"r\");\n",
    "    plt.plot(a_s_fine, err_fine2, color=\"#FFA500\");\n",
    "    plt.grid()\n",
    "\n",
    "\n",
    "    \n",
    "    fig2 = plt.figure(figsize=(12,5))\n",
    "    plt.ylim([-5,5])\n",
    "    gradient_direct = np.zeros(N_grid)\n",
    "    hessian_direct = np.zeros(N_grid)\n",
    "    for i,a in enumerate(a_s_fine):\n",
    "        if i>0 and i<N_grid-1:\n",
    "            gradient_direct[i] = (errs[i+1]-errs[i-1])/(a_s[i+1]-a_s[i-1])\n",
    "            hessian_direct[i]  = (errs[i+1]-2.*errs[i]+errs[i-1])/((a_s[i+1]-a_s[i-1])*(a_s[i+1]-a_s[i-1]))\n",
    "    \n",
    "    plt.scatter(a_s, hessians, color=\"g\");\n",
    "    plt.scatter(a_s, hessian_direct, color=\"#aaffaa\");\n",
    "    plt.scatter(a_s, gradients, color=\"b\");\n",
    "    plt.scatter(a_s, gradient_direct, color=\"#aaaaff\",alpha=0.7);\n",
    "    plt.grid()\n",
    "\n",
    "\n",
    "    return fig, fig2\n",
    "\n",
    "\n",
    "w = interactive(widget_plot,\n",
    "                ind=(0,N_grid))\n",
    "\n",
    "display(w)"
   ]
  },
  {
   "cell_type": "code",
   "execution_count": 69,
   "metadata": {
    "collapsed": false
   },
   "outputs": [
    {
     "data": {
      "text/plain": [
       "array([ 1.0326468 ,  1.07548883,  1.031548  ,  0.92502492,  1.06526075,\n",
       "        0.91093662,  0.99136992,  0.87198771,  0.978899  ,  0.8485514 ,\n",
       "        0.90770031,  0.80455069,  0.89546615,  0.87053065,  0.80022887,\n",
       "        0.81039259,  0.77527055,  0.85031538,  0.74641441,  0.799577  ,\n",
       "        0.71362756,  0.82988245,  0.69375831,  0.80043804,  0.65355076,\n",
       "        0.62735783,  0.66634389,  0.71576718,  0.69184966,  0.63670209,\n",
       "        0.64731771,  0.61370554,  0.66531931,  0.59562852,  0.6587099 ,\n",
       "        0.57834986,  0.68322202,  0.55761058,  0.64095044,  0.53782637,\n",
       "        0.63476012,  0.52994108,  0.56975192,  0.57269762,  0.49691518,\n",
       "        0.47211909,  0.5003233 ,  0.54531965,  0.47289736,  0.52393928,\n",
       "        0.48013936,  0.53651466,  0.43692171,  0.46724658,  0.36318481,\n",
       "        0.50691967,  0.44431769,  0.49124864,  0.42250622,  0.42806406,\n",
       "        0.42548501,  0.35953944,  0.41218271,  0.40437609,  0.49618339,\n",
       "        0.40455189,  0.38717859,  0.34562925,  0.37807975,  0.4200733 ,\n",
       "        0.41792215,  0.36991479,  0.36574986,  0.3507719 ,  0.30152282,\n",
       "        0.38433127,  0.29368729,  0.33344724,  0.32529786,  0.40187838,\n",
       "        0.27503214,  0.31329295,  0.27558502,  0.31125663,  0.34261757,\n",
       "        0.33854953,  0.29107499,  0.2946295 ,  0.2910636 ,  0.25236965,\n",
       "        0.31955314,  0.25145224,  0.27973367,  0.27647708,  0.34108479,\n",
       "        0.23660355,  0.26867647,  0.22638629,  0.25966431,  0.28616423,\n",
       "        0.28605053,  0.24802416,  0.24527257,  0.24411037,  0.20847651,\n",
       "        0.2661879 ,  0.2068522 ,  0.23357403,  0.23256835,  0.29167504,\n",
       "        0.19380905,  0.2297915 ,  0.2816352 ,  0.25137079,  0.15359874,\n",
       "        0.2465078 ,  0.21553855,  0.24279403,  0.17359602,  0.25042787,\n",
       "        0.22198742,  0.17633578,  0.16779746,  0.14812028,  0.17119434,\n",
       "        0.15864657,  0.18353943,  0.23330379,  0.21860701,  0.15165659,\n",
       "        0.19629857,  0.17487324,  0.20732291,  0.14783474,  0.2127654 ,\n",
       "        0.18029519,  0.20427305,  0.14232873,  0.12602962,  0.18071693,\n",
       "        0.13343429,  0.15607011,  0.17220039,  0.17422701,  0.13033062,\n",
       "        0.12996876,  0.15404328,  0.16698789,  0.10118667,  0.18326611])"
      ]
     },
     "execution_count": 69,
     "metadata": {},
     "output_type": "execute_result"
    }
   ],
   "source": [
    "hessians"
   ]
  },
  {
   "cell_type": "code",
   "execution_count": null,
   "metadata": {
    "collapsed": true
   },
   "outputs": [],
   "source": []
  },
  {
   "cell_type": "code",
   "execution_count": null,
   "metadata": {
    "collapsed": true
   },
   "outputs": [],
   "source": []
  },
  {
   "cell_type": "code",
   "execution_count": null,
   "metadata": {
    "collapsed": true
   },
   "outputs": [],
   "source": []
  },
  {
   "cell_type": "code",
   "execution_count": null,
   "metadata": {
    "collapsed": true
   },
   "outputs": [],
   "source": []
  },
  {
   "cell_type": "code",
   "execution_count": null,
   "metadata": {
    "collapsed": true
   },
   "outputs": [],
   "source": []
  },
  {
   "cell_type": "code",
   "execution_count": null,
   "metadata": {
    "collapsed": true
   },
   "outputs": [],
   "source": []
  },
  {
   "cell_type": "code",
   "execution_count": null,
   "metadata": {
    "collapsed": true
   },
   "outputs": [],
   "source": []
  },
  {
   "cell_type": "code",
   "execution_count": null,
   "metadata": {
    "collapsed": true
   },
   "outputs": [],
   "source": []
  }
 ],
 "metadata": {
  "kernelspec": {
   "display_name": "Python 2",
   "language": "python",
   "name": "python2"
  },
  "language_info": {
   "codemirror_mode": {
    "name": "ipython",
    "version": 2
   },
   "file_extension": ".py",
   "mimetype": "text/x-python",
   "name": "python",
   "nbconvert_exporter": "python",
   "pygments_lexer": "ipython2",
   "version": "2.7.6"
  }
 },
 "nbformat": 4,
 "nbformat_minor": 0
}
