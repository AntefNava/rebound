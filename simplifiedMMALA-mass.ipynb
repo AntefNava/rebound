{
 "cells": [
  {
   "cell_type": "markdown",
   "metadata": {},
   "source": [
    "# Riemann MCMC (simplified MMALA)"
   ]
  },
  {
   "cell_type": "markdown",
   "metadata": {},
   "source": [
    "First, let's import `REBOUND`. This version of rebound can integrate the second order variational equations with IAS15, a high accuracy non-symplectic integrator. The only thing that is not yet implemented is varying the mass. Currently the variational particles have the same mass as their real counterparts.\n",
    "\n",
    "Note that I'll do some refactoring in the code some time soon to change several variable names. Right now, whenever the word *MEGNO* appears, replace it with *variational*."
   ]
  },
  {
   "cell_type": "markdown",
   "metadata": {},
   "source": [
    "We also import numpy, scipy (for multidimensional normal distributions) and matplotlib (for plotting)."
   ]
  },
  {
   "cell_type": "code",
   "execution_count": 1,
   "metadata": {
    "collapsed": false
   },
   "outputs": [
    {
     "name": "stdout",
     "output_type": "stream",
     "text": [
      "---------------------------------\n",
      "Rebound version:     \t1.1.0\n",
      "Build on:            \tJul  5 2015 12:26:39\n",
      "Number of particles: \t0\n",
      "Simulation time:     \t0.000000\n",
      "---------------------------------\n"
     ]
    }
   ],
   "source": [
    "%matplotlib inline\n",
    "import rebound as r\n",
    "r.reset()\n",
    "import numpy as np\n",
    "from scipy import stats\n",
    "import matplotlib.pyplot as plt\n",
    "r.status()"
   ]
  },
  {
   "cell_type": "markdown",
   "metadata": {},
   "source": [
    "## Helper function to setup simulations\n",
    "The following functions setup particles according to a given set of parameters. We denote model parameters as $\\theta$ (theta).\n",
    "\n",
    "The fake observations span over a time of 10 years and have a precision of 1 m/s."
   ]
  },
  {
   "cell_type": "code",
   "execution_count": 33,
   "metadata": {
    "collapsed": false
   },
   "outputs": [],
   "source": [
    "CU2MS = 29785.891  # Convert year/(2pi) to m/s\n",
    "\n",
    "def particleSetupDict(thetap):\n",
    "    # Defaults\n",
    "    a = 1.; anom = 0.; omega = -np.pi/2.; m = 1e-3;\n",
    "    for i, name in enumerate(theta_names):\n",
    "        if name == \"a\":\n",
    "            a = thetap[i]\n",
    "        if name == \"anom\":\n",
    "            anom = thetap[i]\n",
    "        if name == \"omega\":\n",
    "            omega = thetap[i]\n",
    "        if name == \"m\": # Not yet implemented!!\n",
    "            m = thetap[i]  \n",
    "    return r.Particle(primary=r.particles[0],m=m,a=a,e=0.,anom=anom,omega=omega)\n",
    "\n",
    "def getRV(thetar,times=None):\n",
    "    if times is None:\n",
    "        times = data_t\n",
    "    r.reset()\n",
    "    r.add(m=1.)\n",
    "    r.add(particleSetupDict(thetar))\n",
    "    r.move_to_com()\n",
    "    ps = r.particles\n",
    "    rvs = np.zeros(len(times))\n",
    "    for i,t in enumerate(times):\n",
    "        r.integrate(t)\n",
    "        rvs[i] = ps[0].vx*CU2MS\n",
    "    return rvs\n",
    "\n",
    "def generateObs(thetao, data_N):\n",
    "    global data_t, data_rv, data_err, N_param\n",
    "    N_param = len(thetao)\n",
    "    tmax = 2.01*2.*np.pi\n",
    "    data_t = np.sort(np.random.uniform(0.,tmax,data_N)).copy()\n",
    "    error_scale = 1.\n",
    "    data_rv = getRV(thetao,times=data_t)+np.random.normal(0.,error_scale,data_N)\n",
    "    data_err = np.full(data_N,error_scale)"
   ]
  },
  {
   "cell_type": "markdown",
   "metadata": {},
   "source": [
    "## Test observation\n",
    "Let's run the `generateObs()` routine once, just to see what we are dealing with. "
   ]
  },
  {
   "cell_type": "code",
   "execution_count": 34,
   "metadata": {
    "collapsed": false,
    "scrolled": true
   },
   "outputs": [
    {
     "data": {
      "image/png": "[encoded data removed]",
      "text/plain": [
       "<matplotlib.figure.Figure at 0x1085c3650>"
      ]
     },
     "metadata": {},
     "output_type": "display_data"
    }
   ],
   "source": [
    "theta_names  = [\"m\"]\n",
    "theta_test   =  [1e-3]\n",
    "generateObs(theta_test,data_N=30)\n",
    "fig1 = plt.figure(figsize=(12,5))\n",
    "times = np.linspace(data_t[0],data_t[-1],500)\n",
    "plt.plot(times, getRV(theta_test,times=times), color=\"b\");\n",
    "plt.ylabel(\"radial velocity [m/s]\"); plt.xlabel(\"time [year/(2$\\pi$)]\")\n",
    "plt.errorbar(data_t, data_rv, yerr=data_err, fmt=\"bo\")\n",
    "plt.grid()\n"
   ]
  },
  {
   "cell_type": "markdown",
   "metadata": {},
   "source": [
    "## Helper functions\n",
    "Two more helper functions. These find the right location in the particle array for the a given index for the first order variational equations and for two given indicies for the second order variational equations. "
   ]
  },
  {
   "cell_type": "code",
   "execution_count": 35,
   "metadata": {
    "collapsed": true
   },
   "outputs": [],
   "source": [
    "N = 2 # Two particles\n",
    "def varid2(l,k):\n",
    "    if k>l:\n",
    "        raise Exception(\"error\")\n",
    "    if l>=N_param:\n",
    "        raise Exception(\"error\")\n",
    "    var = l*(l+1)/2+k\n",
    "    return var*N+N+N*N_param\n",
    "def varid1(l):\n",
    "    if l>=N_param:\n",
    "        raise Exception(\"error\")\n",
    "    return N*l+N"
   ]
  },
  {
   "cell_type": "markdown",
   "metadata": {},
   "source": [
    "## Simulation\n",
    "This is the work-horse function which sets up and runs a simulation using the parameters `thetas`. It returns logp and its first two derivatives with respect to `thetas`.\n",
    "\n",
    "Currently, all the variational equations are calculate with the same initial `delta`. This is not good and should be changed. Something like `delta` times the current value might make sense. But one has to make sure there are no issues due to limited floating point precision. "
   ]
  },
  {
   "cell_type": "code",
   "execution_count": 36,
   "metadata": {
    "collapsed": true
   },
   "outputs": [],
   "source": [
    "def move_var_to_com(varoffset):\n",
    "    ps = r.particles\n",
    "    m = 0.\n",
    "    x = 0.\n",
    "    y = 0.\n",
    "    z = 0.\n",
    "    vx = 0.\n",
    "    vy = 0.\n",
    "    vz = 0.\n",
    "    for i in range(N):\n",
    "        m  += (ps[i].m+ps[i+varoffset].m)\n",
    "        x  += (ps[i].x+ps[i+varoffset].x)  *(ps[i].m+ps[i+varoffset].m)\n",
    "        y  += (ps[i].y+ps[i+varoffset].y)  *(ps[i].m+ps[i+varoffset].m)\n",
    "        z  += (ps[i].z+ps[i+varoffset].z)  *(ps[i].m+ps[i+varoffset].m)\n",
    "        vx += (ps[i].vx+ps[i+varoffset].vx)*(ps[i].m+ps[i+varoffset].m)\n",
    "        vy += (ps[i].vy+ps[i+varoffset].vy)*(ps[i].m+ps[i+varoffset].m)\n",
    "        vz += (ps[i].vz+ps[i+varoffset].vz)*(ps[i].m+ps[i+varoffset].m)\n",
    "    if m>0.:\n",
    "        x /= m\n",
    "        y /= m\n",
    "        z /= m\n",
    "        vx /= m\n",
    "        vy /= m\n",
    "        vz /= m\n",
    "    for i in range(N):    \n",
    "        ps[i+varoffset].x  -= x\n",
    "        ps[i+varoffset].y  -= y\n",
    "        ps[i+varoffset].z  -= z\n",
    "        ps[i+varoffset].vx -= vx\n",
    "        ps[i+varoffset].vy -= vy\n",
    "        ps[i+varoffset].vz -= vz    \n",
    "        \n",
    "\n",
    "def simulation(thetas):\n",
    "    r.reset()\n",
    "    r.N_megnopp = N_param \n",
    "    r.add(m=1.)\n",
    "    op = particleSetupDict(thetas)\n",
    "    r.add(op)\n",
    "    r.move_to_com()\n",
    "    N = r.N\n",
    "    r.init_megno(0.)\n",
    "    ps = r.particles\n",
    "    \n",
    "    delta = 1e-5\n",
    "    # First order\n",
    "    for l in range(N_param):\n",
    "        thetas2 = thetas.copy()\n",
    "        thetas2[l] += delta/2.\n",
    "        mp = particleSetupDict(thetas2)\n",
    "        thetas2 = thetas.copy()\n",
    "        thetas2[l] -= delta/2.\n",
    "        mm = particleSetupDict(thetas2)\n",
    "\n",
    "        vari = varid1(l)+1\n",
    "        ps[vari].m  = (mp.m  - mm.m  )\n",
    "        ps[vari].x  = (mp.x  - mm.x  )\n",
    "        ps[vari].y  = (mp.y  - mm.y  )\n",
    "        ps[vari].z  = (mp.z  - mm.z  )\n",
    "        ps[vari].vx = (mp.vx - mm.vx )\n",
    "        ps[vari].vy = (mp.vy - mm.vy )\n",
    "        ps[vari].vz = (mp.vz - mm.vz )\n",
    "        \n",
    "        move_var_to_com(varid1(l))\n",
    "        \n",
    "    # Second order\n",
    "    for l in range(N_param):\n",
    "        for k in range(l+1):\n",
    "            fac = 2.\n",
    "            thetas2 = thetas.copy()\n",
    "            thetas2[l] += delta/fac\n",
    "            thetas2[k] += delta/fac\n",
    "            mpp = particleSetupDict(thetas2)\n",
    "            thetas2 = thetas.copy()\n",
    "            thetas2[l] += delta/fac\n",
    "            thetas2[k] -= delta/fac\n",
    "            mpm = particleSetupDict(thetas2)\n",
    "            thetas2 = thetas.copy()\n",
    "            thetas2[l] -= delta/fac\n",
    "            thetas2[k] += delta/fac\n",
    "            mmp = particleSetupDict(thetas2)\n",
    "            thetas2 = thetas.copy()\n",
    "            thetas2[l] -= delta/fac\n",
    "            thetas2[k] -= delta/fac\n",
    "            mmm = particleSetupDict(thetas2)\n",
    "            \n",
    "            vari2 = varid2(l,k)+1\n",
    "            ps[vari2].m  = mpp.m  - mpm.m  - mmp.m  + mmm.m\n",
    "            ps[vari2].x  = mpp.x  - mpm.x  - mmp.x  + mmm.x\n",
    "            ps[vari2].y  = mpp.y  - mpm.y  - mmp.y  + mmm.y \n",
    "            ps[vari2].z  = mpp.z  - mpm.z  - mmp.z  + mmm.z \n",
    "            ps[vari2].vx = mpp.vx - mpm.vx - mmp.vx + mmm.vx\n",
    "            ps[vari2].vy = mpp.vy - mpm.vy - mmp.vy + mmm.vy\n",
    "            ps[vari2].vz = mpp.vz - mpm.vz - mmp.vz + mmm.vz\n",
    "    \n",
    "            move_var_to_com(varid2(l,k))\n",
    "    \n",
    "    ##################################################################\n",
    "    # INTEGRATION\n",
    "    logps   = 0.\n",
    "    logp_d  = np.zeros(N_param)\n",
    "    logp_d2 = np.zeros((N_param*(N_param+1)/2,2))\n",
    "    for i,t in enumerate(data_t):\n",
    "        r.integrate(t)\n",
    "        dv = ps[0].vx*CU2MS-data_rv[i]\n",
    "        derri = 1./(2.*(data_err[i]**2))\n",
    "        logps  += -dv**2*derri\n",
    "        for k in range(N_param):\n",
    "            vari1 = varid1(k)\n",
    "            logp_d[k] += -2.*ps[vari1].vx*CU2MS/delta * dv *derri\n",
    "            #print t, vari1, ps[vari1].vx, ps[0].vx\n",
    "        _id = 0\n",
    "        for l in range(N_param):\n",
    "            for k in range(l+1):\n",
    "                vari2 = varid2(l,k)\n",
    "                vari1l = varid1(l)\n",
    "                vari1k = varid1(k)\n",
    "                logp_d2[_id][0] += -2.*(ps[vari1l].vx*CU2MS * ps[vari1k].vx*CU2MS)/(delta*delta)*derri\n",
    "                # Expectation value would remove next line, still a valid metric, but less useful\n",
    "                logp_d2[_id][1] += -2.*(ps[vari2].vx*CU2MS * dv)/(delta*delta)*derri\n",
    "                _id += 1\n",
    "    \n",
    "    logp_d2m = np.zeros((N_param,N_param))\n",
    "    _id = 0\n",
    "    for l in range(N_param):\n",
    "        for k in range(l+1):\n",
    "            fdd = logp_d2[_id][0] + logp_d2[_id][1]\n",
    "            logp_d2m[l,k] = fdd\n",
    "            logp_d2m[k,l] = fdd\n",
    "            _id +=1\n",
    "    \n",
    "    return logps, logp_d, logp_d2m, 1.23"
   ]
  },
  {
   "cell_type": "code",
   "execution_count": 53,
   "metadata": {
    "collapsed": false
   },
   "outputs": [],
   "source": [
    "Ntest = 20\n",
    "ms = np.linspace(0.5e-3,1.01e-2,Ntest)\n",
    "#ms = np.linspace(3,5,Ntest)\n",
    "thetas = np.array([[m] for m in ms])\n",
    "theta_names=[\"m\"]\n",
    "results = np.array(map(simulation,thetas))\n",
    "directgrad = np.zeros(Ntest)\n",
    "directhess = np.zeros(Ntest)\n",
    "for i in range(1,Ntest-1):\n",
    "    directgrad[i] = (results[i+1,0]-results[i-1,0])/(ms[i+1]-ms[i-1])\n",
    "    directhess[i] = (results[i+1,0]-2.*results[i,0]+results[i-1,0])/((ms[i+1]-ms[i-1])/2.)**2"
   ]
  },
  {
   "cell_type": "code",
   "execution_count": 54,
   "metadata": {
    "collapsed": false
   },
   "outputs": [
    {
     "data": {
      "image/png": "[encoded data removed]",
      "text/plain": [
       "<matplotlib.figure.Figure at 0x1086d6690>"
      ]
     },
     "metadata": {},
     "output_type": "display_data"
    },
    {
     "data": {
      "image/png": "[encoded data removed]",
      "text/plain": [
       "<matplotlib.figure.Figure at 0x10779de90>"
      ]
     },
     "metadata": {},
     "output_type": "display_data"
    },
    {
     "data": {
      "image/png": "[encoded data removed]",
      "text/plain": [
       "<matplotlib.figure.Figure at 0x107e66a50>"
      ]
     },
     "metadata": {},
     "output_type": "display_data"
    }
   ],
   "source": [
    "fig1 = plt.figure(figsize=(12,5))\n",
    "plt.plot(ms, results[:,0])\n",
    "plt.grid()\n",
    "fig1 = plt.figure(figsize=(12,5))\n",
    "plt.plot(ms, results[:,1])\n",
    "plt.plot(ms[1:-1], directgrad[1:-1])\n",
    "plt.grid()\n",
    "fig1 = plt.figure(figsize=(12,5))\n",
    "plt.plot(ms, results[:,2])\n",
    "plt.plot(ms[1:-1], directhess[1:-1])\n",
    "plt.grid()"
   ]
  },
  {
   "cell_type": "code",
   "execution_count": 48,
   "metadata": {
    "collapsed": false
   },
   "outputs": [
    {
     "name": "stdout",
     "output_type": "stream",
     "text": [
      "[ 209163.11328354  194706.59027874  180250.01079271  165793.37482599\n",
      "  151336.68237945  136879.93345385  122423.12804978  107966.26616806\n",
      "   93509.34780949   79052.37297471   64595.34166448   50138.25387947\n",
      "   35681.10962048   21223.90888825    6766.65168347   -7690.66199315\n",
      "  -22148.03214074  -36605.4587587   -51062.94184632  -65520.48140278]\n"
     ]
    }
   ],
   "source": [
    "print results[:,1]"
   ]
  },
  {
   "cell_type": "markdown",
   "metadata": {},
   "source": [
    "## Soft-abs metric\n",
    "The following function implements the soft-abs metric. This makes sure the metric is positive definite and well behaved. I'm not sure yet how to choose `alpha`."
   ]
  },
  {
   "cell_type": "code",
   "execution_count": 6,
   "metadata": {
    "collapsed": true
   },
   "outputs": [],
   "source": [
    "def softabs(hessians):\n",
    "    lam, Q = np.linalg.eig(-hessians)\n",
    "    lam_twig = lam*1./np.tanh(alpha*lam)\n",
    "    H_twig = np.dot(Q,np.dot(np.diag(lam_twig),Q.T))    \n",
    "    return H_twig"
   ]
  },
  {
   "cell_type": "markdown",
   "metadata": {},
   "source": [
    "## MCMC loop\n",
    "This function is the actual MCMC loop. It can be optimized, but it works. It would probably make sense to have some sort of \"state object\"."
   ]
  },
  {
   "cell_type": "code",
   "execution_count": 13,
   "metadata": {
    "collapsed": true
   },
   "outputs": [],
   "source": [
    "class State:  \n",
    "    def __init__(self, thetai, epsiloni):\n",
    "        self.theta    = thetai\n",
    "        self.epsilon  = epsiloni\n",
    "        self.logp, self.gradient, self.hessian = simulation(self.theta)\n",
    "        self.G        = softabs(self.hessian)\n",
    "        self.Ginv     = np.linalg.inv(self.G)\n",
    "        self.Ginvsqrt = np.linalg.cholesky(self.Ginv)    \n",
    "        self.mu       = self.theta + (self.epsilon)**2 * np.dot(self.Ginv, self.gradient)/2.\n",
    "        \n",
    "    def generateProposal(self):\n",
    "        thetastar = self.mu + (self.epsilon) * np.dot(self.Ginvsqrt, np.random.normal(0.,1.,N_param))\n",
    "        return State(thetastar,self.epsilon)\n",
    "    \n",
    "    def transitionProbability(self,thetaNew):\n",
    "        return stats.multivariate_normal.logpdf(thetaNew,mean=self.mu, cov=(self.epsilon)**2*self.Ginv)\n",
    "    \n",
    "def mcmc(theta,N_steps,epsilon):\n",
    "    errs = np.zeros(N_steps)\n",
    "    chain = np.zeros((N_steps,N_param))\n",
    "    state = State(np.array(theta),epsilon)\n",
    "    accepted = 0\n",
    "    print \" \"\n",
    "    for i in range(N_steps):\n",
    "        stateStar = state.generateProposal()\n",
    "        print \" \"\n",
    "        q_ts_t = state.transitionProbability(stateStar.theta)\n",
    "        q_t_ts = stateStar.transitionProbability(state.theta)\n",
    "        \n",
    "        if np.exp(stateStar.logp-state.logp+q_t_ts-q_ts_t) > np.random.uniform():\n",
    "            accepted += 1\n",
    "            state = stateStar\n",
    "        chain[i] = state.theta\n",
    "        errs[i] = state.logp\n",
    "\n",
    "    print \"Acceptance rate: %.1f%%\" % (float(accepted)/float(N_steps)*100.)\n",
    "    return errs, chain\n",
    "    "
   ]
  },
  {
   "cell_type": "markdown",
   "metadata": {},
   "source": [
    "## Run!!\n",
    "Let's setup all parameters, create fake observations and run the MCMC"
   ]
  },
  {
   "cell_type": "code",
   "execution_count": null,
   "metadata": {
    "collapsed": false
   },
   "outputs": [],
   "source": [
    "N_steps                  = 50\n",
    "alpha                    = 1000.1         # softabs alpha\n",
    "theta_names              = [\"m\"]\n",
    "theta_actual             = [1e-3]\n",
    "theta_initial            = [1e-3]  # only slightly different, i.e. a pretty good guess\n",
    "\n",
    "# Generate fake observations and run MCMC\n",
    "generateObs(theta_actual,data_N=30)\n",
    "errs, chain = mcmc(theta_initial,N_steps, epsilon=0.75)"
   ]
  },
  {
   "cell_type": "markdown",
   "metadata": {},
   "source": [
    "Note the high acceptance rate above!"
   ]
  },
  {
   "cell_type": "markdown",
   "metadata": {},
   "source": [
    "## Plots\n",
    "Let's plot the evolution of the chain: logp, and all parameters. Green lines correspond to the actual values used to generate the observations."
   ]
  },
  {
   "cell_type": "code",
   "execution_count": null,
   "metadata": {
    "collapsed": false,
    "scrolled": false
   },
   "outputs": [],
   "source": [
    "fig1 = plt.figure(figsize=(12,5))\n",
    "plt.xlabel(\"iteration\"); plt.ylabel(\"logp\");\n",
    "plt.plot(range(N_steps), errs, color=\"b\");\n",
    "plt.grid()\n",
    "for i in range(N_param):\n",
    "    fig1 = plt.figure(figsize=(12,5))\n",
    "    plt.xlabel(\"iteration\"); plt.ylabel(theta_names[i]);\n",
    "    plt.plot(range(N_steps), chain[:,i], color=\"b\");\n",
    "    plt.plot([0,N_steps-1], [theta_actual[i],theta_actual[i]], color=\"g\");\n",
    "    plt.grid()"
   ]
  },
  {
   "cell_type": "markdown",
   "metadata": {},
   "source": [
    "Autocorrelation plots"
   ]
  },
  {
   "cell_type": "code",
   "execution_count": null,
   "metadata": {
    "collapsed": false
   },
   "outputs": [],
   "source": [
    "def autocorr(x):\n",
    "    result = np.correlate(x, x, mode=\"full\")\n",
    "    return result[result.size/2:]\n",
    "    \n",
    "for i in range(N_param):\n",
    "    fig1 = plt.figure(figsize=(12,5))\n",
    "    cor = autocorr(chain[:,i]-np.mean(chain[:,i]))\n",
    "    cor = cor/cor[0]\n",
    "    plt.xlabel(\"iteration\"); plt.ylabel(\"autocor(\"+theta_names[i]+\")\");\n",
    "    showSteps = min(300,N_steps)\n",
    "    half = 0\n",
    "    for i,c in enumerate(cor):\n",
    "        if c<0.5:\n",
    "            half = i\n",
    "            break\n",
    "    plt.axvline(half, color=\"r\")\n",
    "    plt.axhline(0.5, color=\"r\")\n",
    "    plt.plot(range(N_steps)[:showSteps], cor[:showSteps], color=\"b\");\n",
    "    plt.xticks(list(plt.xticks()[0])+[half])\n",
    "    plt.grid()"
   ]
  },
  {
   "cell_type": "markdown",
   "metadata": {},
   "source": [
    "Let's make a triangle plot of the distributions. The plot also shows the actual (true) values."
   ]
  },
  {
   "cell_type": "code",
   "execution_count": null,
   "metadata": {
    "collapsed": false
   },
   "outputs": [],
   "source": [
    "import triangle\n",
    "ndim, nsamples = 5, 10000\n",
    "figure = triangle.corner(chain, labels=theta_names, truths=theta_actual)"
   ]
  },
  {
   "cell_type": "markdown",
   "metadata": {},
   "source": [
    "To inspect the evolution, here is a dynamic widget plot, the slider can be used to scan through the iterations and compare the RV curve to the actual observations (only works in an active jupyter notebook)."
   ]
  },
  {
   "cell_type": "code",
   "execution_count": null,
   "metadata": {
    "collapsed": false
   },
   "outputs": [],
   "source": [
    "from IPython.html.widgets import interact, interactive\n",
    "from IPython.display import display\n",
    "times = np.linspace(data_t[0],data_t[-1],500)\n",
    "\n",
    "def widgetplot(ind):\n",
    "    fig1 = plt.figure(figsize=(12,5))\n",
    "    plt.ylabel(\"radial velocity [m/s]\"); plt.xlabel(\"time [year/(2$\\pi$)]\")\n",
    "    plt.errorbar(data_t, data_rv, yerr=data_err, fmt=\"go\")\n",
    "    plt.plot(times, getRV(theta_actual, times=times), color=\"g\");\n",
    "    plt.plot(times, getRV(chain[int(ind),:], times=times), color=\"b\");\n",
    "    plt.grid()\n",
    "\n",
    "display(interactive(widgetplot, ind=(0,N_steps-1)))"
   ]
  },
  {
   "cell_type": "markdown",
   "metadata": {
    "collapsed": true
   },
   "source": [
    "# Tests"
   ]
  },
  {
   "cell_type": "code",
   "execution_count": 7,
   "metadata": {
    "collapsed": false
   },
   "outputs": [
    {
     "name": "stdout",
     "output_type": "stream",
     "text": [
      "[ -8.64540522e+01   1.13163136e-01   1.43118901e+04   1.23000000e+00]\n"
     ]
    }
   ],
   "source": [
    "print results[0]"
   ]
  },
  {
   "cell_type": "code",
   "execution_count": 10,
   "metadata": {
    "collapsed": false
   },
   "outputs": [
    {
     "data": {
      "text/plain": [
       "array([ 0.11316314,  0.07783816,  0.0532846 ,  0.03616974,  0.02422494,\n",
       "        0.01589279,  0.01009601,  0.00608432,  0.00333212,  0.00146923,\n",
       "        0.00023385, -0.00055986, -0.00104417, -0.00131335, -0.00143467,\n",
       "       -0.00145606, -0.00141163, -0.00132555, -0.00121483, -0.00109137])"
      ]
     },
     "execution_count": 10,
     "metadata": {},
     "output_type": "execute_result"
    }
   ],
   "source": [
    "results[:,1]"
   ]
  },
  {
   "cell_type": "code",
   "execution_count": null,
   "metadata": {
    "collapsed": true
   },
   "outputs": [],
   "source": []
  }
 ],
 "metadata": {
  "kernelspec": {
   "display_name": "Python 2",
   "language": "python",
   "name": "python2"
  },
  "language_info": {
   "codemirror_mode": {
    "name": "ipython",
    "version": 2
   },
   "file_extension": ".py",
   "mimetype": "text/x-python",
   "name": "python",
   "nbconvert_exporter": "python",
   "pygments_lexer": "ipython2",
   "version": "2.7.6"
  }
 },
 "nbformat": 4,
 "nbformat_minor": 0
}
