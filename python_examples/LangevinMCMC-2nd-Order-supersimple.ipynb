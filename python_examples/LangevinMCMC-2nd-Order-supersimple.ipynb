{
 "cells": [
  {
   "cell_type": "code",
   "execution_count": 49,
   "metadata": {
    "collapsed": false
   },
   "outputs": [
    {
     "name": "stdout",
     "output_type": "stream",
     "text": [
      "---------------------------------\n",
      "Rebound version:     \t1.0.0\n",
      "Build on:            \tJun 15 2015 20:06:49\n",
      "Number of particles: \t0\n",
      "Simulation time:     \t0.000000\n",
      "---------------------------------\n"
     ]
    }
   ],
   "source": [
    "%matplotlib inline\n",
    "import rebound as r\n",
    "r.reset()\n",
    "import numpy as np\n",
    "import matplotlib.pyplot as plt\n",
    "r.status()\n",
    "from IPython.html.widgets import interact, interactive\n",
    "from IPython.display import display"
   ]
  },
  {
   "cell_type": "markdown",
   "metadata": {},
   "source": [
    "## Setting up simulations"
   ]
  },
  {
   "cell_type": "code",
   "execution_count": 50,
   "metadata": {
    "collapsed": true
   },
   "outputs": [],
   "source": [
    "data_t = np.linspace(0,1,1000)"
   ]
  },
  {
   "cell_type": "code",
   "execution_count": null,
   "metadata": {
    "collapsed": true
   },
   "outputs": [],
   "source": []
  },
  {
   "cell_type": "code",
   "execution_count": 59,
   "metadata": {
    "collapsed": false
   },
   "outputs": [],
   "source": [
    "def simulation(cart):\n",
    "    r.reset()\n",
    "    numvar = 4\n",
    "    r.N_megnopp = numvar # 4 variation equations per particle\n",
    "    r.add(m=1.)\n",
    "    op = r.Particle(x=cart[0],y=cart[1],vx=cart[2],vy=cart[3])\n",
    "    r.add(op)\n",
    "    N = r.N\n",
    "    r.init_megno(0.)\n",
    "    ps = r.particles\n",
    "    \n",
    "    \n",
    "    delta = 1e-4\n",
    "    # First order\n",
    "    for l in range(numvar):\n",
    "        cart2 = cart.copy()\n",
    "        cart2[l] += delta\n",
    "        mp = r.Particle(x=cart2[0],y=cart2[1],vx=cart2[2],vy=cart2[3])\n",
    "\n",
    "        vari = N*l+1+N\n",
    "        ps[vari].x  = (mp.x  - ps[1].x  )\n",
    "        ps[vari].y  = (mp.y  - ps[1].y  )\n",
    "        ps[vari].z  = (mp.z  - ps[1].z  )\n",
    "        ps[vari].vx = (mp.vx - ps[1].vx )\n",
    "        ps[vari].vy = (mp.vy - ps[1].vy )\n",
    "        ps[vari].vz = (mp.vz - ps[1].vz )\n",
    "        \n",
    "    _id = 0\n",
    "    # Second order\n",
    "    for l in range(numvar):\n",
    "        for k in range(l+1):\n",
    "            cart2 = cart.copy()\n",
    "            cart2[l] += delta\n",
    "            mp = r.Particle(x=cart2[0],y=cart2[1],vx=cart2[2],vy=cart2[3])\n",
    "            cart2 = cart.copy()\n",
    "            cart2[l] -= delta\n",
    "            mm = r.Particle(x=cart2[0],y=cart2[1],vx=cart2[2],vy=cart2[3])\n",
    "            \n",
    "            vari = N*_id+1+N+numvar*N\n",
    "            fac = 1.\n",
    "            ps[vari].x  = fac*(mp.x  - 2.*ps[1].x  + mm.x )\n",
    "            ps[vari].y  = fac*(mp.y  - 2.*ps[1].y  + mm.y )\n",
    "            ps[vari].z  = fac*(mp.z  - 2.*ps[1].z  + mm.z )\n",
    "            ps[vari].vx = fac*(mp.vx - 2.*ps[1].vx + mm.vx)\n",
    "            ps[vari].vy = fac*(mp.vy - 2.*ps[1].vy + mm.vy)\n",
    "            ps[vari].vz = fac*(mp.vz - 2.*ps[1].vz + mm.vz)\n",
    "            _id +=1\n",
    "    \n",
    "     \n",
    "    sim_rv = np.zeros(len(data_t))\n",
    "    sim_rvd = np.zeros(len(data_t))\n",
    "    sim_rvd2 = np.zeros(len(data_t))\n",
    "    for i,t in enumerate(data_t):\n",
    "        r.integrate(t)\n",
    "        sim_rv[i] = ps[1].x\n",
    "        sim_rvd[i] = ps[N+1].x\n",
    "        sim_rvd2[i] = ps[N*numvar+N+1].x\n",
    "        \n",
    "    \n",
    "    return sim_rv, sim_rvd, sim_rvd2"
   ]
  },
  {
   "cell_type": "code",
   "execution_count": 60,
   "metadata": {
    "collapsed": false
   },
   "outputs": [
    {
     "data": {
      "text/plain": [
       "(0.0001580780891544942, -3.335017416850391e-08)"
      ]
     },
     "execution_count": 60,
     "metadata": {},
     "output_type": "execute_result"
    }
   ],
   "source": [
    "d0, d, dd = simulation(np.array([1.,0.,1.,0.]))\n",
    "d[-1], dd[-1]"
   ]
  },
  {
   "cell_type": "markdown",
   "metadata": {},
   "source": [
    "## Visual Check"
   ]
  },
  {
   "cell_type": "code",
   "execution_count": 71,
   "metadata": {
    "collapsed": false
   },
   "outputs": [
    {
     "data": {
      "image/png": "[encoded data removed]",
      "text/plain": [
       "<matplotlib.figure.Figure at 0x10460a410>"
      ]
     },
     "metadata": {},
     "output_type": "display_data"
    }
   ],
   "source": [
    "fig3 = plt.figure(figsize=(12,5))\n",
    "plt.ylim([-0.0000001,0.0000001])\n",
    "#plt.scatter(data_t, d0, color=\"g\");\n",
    "#plt.scatter(data_t, d, color=\"g\");\n",
    "plt.scatter(data_t, dd, color=\"r\");\n",
    "plt.grid()\n",
    "\n",
    "    "
   ]
  },
  {
   "cell_type": "code",
   "execution_count": null,
   "metadata": {
    "collapsed": true
   },
   "outputs": [],
   "source": []
  },
  {
   "cell_type": "code",
   "execution_count": 5,
   "metadata": {
    "collapsed": false
   },
   "outputs": [
    {
     "data": {
      "image/png": "[encoded data removed]",
      "text/plain": [
       "<matplotlib.figure.Figure at 0x10d5d6810>"
      ]
     },
     "metadata": {},
     "output_type": "display_data"
    }
   ],
   "source": [
    "def simulation_rv(cart):\n",
    "    r.reset()\n",
    "    numvar = 4\n",
    "    r.N_megnopp = numvar # 4 variation equations per particle\n",
    "    r.add(m=1.)\n",
    "    r.add(a=cart[0],e=cart[1],anom=cart[2],omega=cart[3])\n",
    "    N = r.N\n",
    "\n",
    "\n",
    "    r.init_megno(0.)\n",
    "    ps = r.particles\n",
    "    \n",
    "    \n",
    "    delta = 1e-4\n",
    "    # First order\n",
    "    for l in range(numvar):\n",
    "        cart2 = cart.copy()\n",
    "        cart2[l] += delta\n",
    "        mp = r.Particle(primary=ps[0],a=cart2[0],e=np.clip(cart2[1],0.,0.9),anom=cart2[2],omega=cart2[3])\n",
    "\n",
    "        vari = N*l+1+N\n",
    "        ps[vari].x  = (mp.x  - ps[1].x  )\n",
    "        ps[vari].y  = (mp.y  - ps[1].y  )\n",
    "        ps[vari].z  = (mp.z  - ps[1].z  )\n",
    "        ps[vari].vx = (mp.vx - ps[1].vx )\n",
    "        ps[vari].vy = (mp.vy - ps[1].vy )\n",
    "        ps[vari].vz = (mp.vz - ps[1].vz )\n",
    "        \n",
    "    _id = 0\n",
    "    # Second order\n",
    "    for l in range(numvar):\n",
    "        for k in range(l+1):\n",
    "            cart2 = cart.copy()\n",
    "            cart2[l] += delta\n",
    "            mp = r.Particle(primary=ps[0],a=cart2[0],e=np.clip(cart2[1],0.,0.9),anom=cart2[2],omega=cart2[3])\n",
    "            cart2 = cart.copy()\n",
    "            cart2[l] -= delta\n",
    "            mm = r.Particle(primary=ps[0],a=cart2[0],e=np.clip(cart2[1],0.,0.9),anom=cart2[2],omega=cart2[3])\n",
    "            \n",
    "            vari = N*_id+1+N+numvar*N\n",
    "            ps[vari].x  = 1.*(mp.x  - 2.*ps[1].x  + mm.x )\n",
    "            ps[vari].y  = 1.*(mp.y  - 2.*ps[1].y  + mm.y )\n",
    "            ps[vari].z  = 1.*(mp.z  - 2.*ps[1].z  + mm.z )\n",
    "            ps[vari].vx = 1.*(mp.vx - 2.*ps[1].vx + mm.vx)\n",
    "            ps[vari].vy = 1.*(mp.vy - 2.*ps[1].vy + mm.vy)\n",
    "            ps[vari].vz = 1.*(mp.vz - 2.*ps[1].vz + mm.vz)\n",
    "            #if _id ==0:\n",
    "            #    print ps[vari].vx,ps[vari].vy\n",
    "            _id +=1\n",
    "    \n",
    "    \n",
    "    ps = r.particles\n",
    "    sim_rv = np.zeros((len(data_t),2))\n",
    "    for i,t in enumerate(data_t):\n",
    "        r.integrate(t)\n",
    "        sim_rv[i][0] = ps[1+N+N*numvar].x\n",
    "        sim_rv[i][1] = ps[1+N+N*numvar].y\n",
    "    return sim_rv\n",
    "\n",
    "sim_rv = simulation_rv(a0)\n",
    "fig = plt.figure(figsize=(12,5))  \n",
    "\n",
    "#plt.plot(data_t,data_rv, color=\"r\");\n",
    "plt.plot(sim_rv[:,0],sim_rv[:,1], color=\"b\");\n",
    "#plt.plot(data_t,sim_rv[:,0], color=\"r\");\n",
    "\n"
   ]
  },
  {
   "cell_type": "code",
   "execution_count": null,
   "metadata": {
    "collapsed": true
   },
   "outputs": [],
   "source": []
  },
  {
   "cell_type": "code",
   "execution_count": null,
   "metadata": {
    "collapsed": true
   },
   "outputs": [],
   "source": []
  },
  {
   "cell_type": "code",
   "execution_count": null,
   "metadata": {
    "collapsed": true
   },
   "outputs": [],
   "source": []
  },
  {
   "cell_type": "code",
   "execution_count": null,
   "metadata": {
    "collapsed": true
   },
   "outputs": [],
   "source": []
  },
  {
   "cell_type": "code",
   "execution_count": null,
   "metadata": {
    "collapsed": true
   },
   "outputs": [],
   "source": []
  },
  {
   "cell_type": "code",
   "execution_count": null,
   "metadata": {
    "collapsed": true
   },
   "outputs": [],
   "source": []
  }
 ],
 "metadata": {
  "kernelspec": {
   "display_name": "Python 2",
   "language": "python",
   "name": "python2"
  },
  "language_info": {
   "codemirror_mode": {
    "name": "ipython",
    "version": 2
   },
   "file_extension": ".py",
   "mimetype": "text/x-python",
   "name": "python",
   "nbconvert_exporter": "python",
   "pygments_lexer": "ipython2",
   "version": "2.7.6"
  }
 },
 "nbformat": 4,
 "nbformat_minor": 0
}
