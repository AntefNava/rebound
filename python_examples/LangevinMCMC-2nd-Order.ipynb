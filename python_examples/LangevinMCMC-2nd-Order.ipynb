{
 "cells": [
  {
   "cell_type": "code",
   "execution_count": 133,
   "metadata": {
    "collapsed": false
   },
   "outputs": [
    {
     "name": "stdout",
     "output_type": "stream",
     "text": [
      "---------------------------------\n",
      "Rebound version:     \t1.0.0\n",
      "Build on:            \tJun 13 2015 10:38:11\n",
      "Number of particles: \t0\n",
      "Simulation time:     \t0.000000\n",
      "---------------------------------\n"
     ]
    }
   ],
   "source": [
    "%matplotlib inline\n",
    "import rebound as r\n",
    "r.reset()\n",
    "import numpy as np\n",
    "import matplotlib.pyplot as plt\n",
    "r.status()\n",
    "from IPython.html.widgets import interact, interactive\n",
    "from IPython.display import display"
   ]
  },
  {
   "cell_type": "markdown",
   "metadata": {},
   "source": [
    "## Simulated data:"
   ]
  },
  {
   "cell_type": "code",
   "execution_count": 258,
   "metadata": {
    "collapsed": false
   },
   "outputs": [],
   "source": [
    "data_N = 30\n",
    "data_t = np.linspace(0.1,100,data_N)+0.5*np.random.rand(data_N)\n",
    "data_rv = 0.500883379885605*(np.sin(2.*np.pi*data_t/50.+0.2*np.pi)+0.16*(np.random.rand(data_N)-0.5))"
   ]
  },
  {
   "cell_type": "code",
   "execution_count": 259,
   "metadata": {
    "collapsed": false,
    "scrolled": false
   },
   "outputs": [
    {
     "data": {
      "image/png": "[encoded data removed]",
      "text/plain": [
       "<matplotlib.figure.Figure at 0x11548d410>"
      ]
     },
     "metadata": {},
     "output_type": "display_data"
    }
   ],
   "source": [
    "plt.scatter(data_t, data_rv);"
   ]
  },
  {
   "cell_type": "markdown",
   "metadata": {},
   "source": [
    "## Setting up simulations"
   ]
  },
  {
   "cell_type": "code",
   "execution_count": 386,
   "metadata": {
    "collapsed": false
   },
   "outputs": [],
   "source": [
    "def simulation_rv(cart):\n",
    "    r.reset()\n",
    "    r.add(m=1.)\n",
    "    r.add(a=cart[0],e=cart[1],anom=cart[2],omega=cart[3])\n",
    "    ps = r.particles\n",
    "    sim_rv = np.zeros(len(data_t))\n",
    "    for i,t in enumerate(data_t):\n",
    "        r.integrate(t)\n",
    "        sim_rv[i] = ps[1].vx\n",
    "    return sim_rv\n",
    "\n",
    "def simulation(cart):\n",
    "    r.reset()\n",
    "    numvar = 4\n",
    "    r.N_megnopp = numvar # 4 variation equations per particle\n",
    "    r.add(m=1.)\n",
    "    op = r.Particle(a=cart[0],e=cart[1],anom=cart[2],omega=cart[3])\n",
    "    \n",
    "    r.add(op)\n",
    "    N = r.N\n",
    "    \n",
    "    r.init_megno(0.)\n",
    "    ps = r.particles\n",
    "    \n",
    "    \n",
    "    delta = 1e-7\n",
    "    # First order\n",
    "    for l in range(numvar):\n",
    "        cart2 = cart.copy()\n",
    "        cart2[l] += delta\n",
    "        mp = r.Particle(primary=ps[0],a=cart2[0],e=np.clip(cart2[1],0.,0.9),anom=cart2[2],omega=cart2[3])\n",
    "\n",
    "        vari = N*l+1+N\n",
    "        ps[vari].x  = (mp.x  - ps[1].x  )\n",
    "        ps[vari].y  = (mp.y  - ps[1].y  )\n",
    "        ps[vari].z  = (mp.z  - ps[1].z  )\n",
    "        ps[vari].vx = (mp.vx - ps[1].vx )\n",
    "        ps[vari].vy = (mp.vy - ps[1].vy )\n",
    "        ps[vari].vz = (mp.vz - ps[1].vz )\n",
    "        \n",
    "    _id = 0\n",
    "    # Second order\n",
    "    for l in range(numvar):\n",
    "        for k in range(l+1):\n",
    "            cart2 = cart.copy()\n",
    "            cart2[l] += delta\n",
    "            mp = r.Particle(primary=ps[0],a=cart2[0],e=np.clip(cart2[1],0.,0.9),anom=cart2[2],omega=cart2[3])\n",
    "            cart2 = cart.copy()\n",
    "            cart2[l] -= delta\n",
    "            mm = r.Particle(primary=ps[0],a=cart2[0],e=np.clip(cart2[1],0.,0.9),anom=cart2[2],omega=cart2[3])\n",
    "            \n",
    "            vari = N*_id+1+N+numvar*N\n",
    "            ps[vari].x  = .5*(mp.x  - 2.*ps[1].x  + mm.x )\n",
    "            ps[vari].y  = .5*(mp.y  - 2.*ps[1].y  + mm.y )\n",
    "            ps[vari].z  = .5*(mp.z  - 2.*ps[1].z  + mm.z )\n",
    "            ps[vari].vx = .5*(mp.vx - 2.*ps[1].vx + mm.vx)\n",
    "            ps[vari].vy = .5*(mp.vy - 2.*ps[1].vy + mm.vy)\n",
    "            ps[vari].vz = .5*(mp.vz - 2.*ps[1].vz + mm.vz)\n",
    "            #if _id ==0:\n",
    "            #    print ps[vari].vx,ps[vari].vy\n",
    "            _id +=1\n",
    "    \n",
    "     \n",
    "    sim_rv = 0.\n",
    "    sim_rvd = np.zeros(numvar)\n",
    "    sim_rvd2 = np.zeros((numvar*(numvar+1)/2,4))\n",
    "    for i,t in enumerate(data_t):\n",
    "        r.integrate(t)\n",
    "        dv = ps[1].vx-data_rv[i]\n",
    "        sim_rv  += dv**2\n",
    "        for k in range(numvar):\n",
    "            sim_rvd[k] += (ps[k*N+1+N].vx)**2 + 2.*ps[k*N+1+N].vx*dv\n",
    "        _id = 0\n",
    "        for l in range(numvar):\n",
    "            for k in range(l+1):\n",
    "                sim_rvd2[_id][0] += np.square(ps[1].vx + 0.5*ps[l*N+N+1].vx + 0.5*ps[k*N+N+1].vx + .0000000* ps[_id*N+N*numvar+N+1].vx - data_rv[i])\n",
    "                sim_rvd2[_id][1] += np.square(ps[1].vx + 0.5*ps[l*N+N+1].vx - 0.5*ps[k*N+N+1].vx - .0000000* ps[_id*N+N*numvar+N+1].vx - data_rv[i])\n",
    "                sim_rvd2[_id][2] += np.square(ps[1].vx - 0.5*ps[l*N+N+1].vx + 0.5*ps[k*N+N+1].vx - .0000000* ps[_id*N+N*numvar+N+1].vx - data_rv[i])\n",
    "                sim_rvd2[_id][3] += np.square(ps[1].vx - 0.5*ps[l*N+N+1].vx - 0.5*ps[k*N+N+1].vx + .0000000* ps[_id*N+N*numvar+N+1].vx - data_rv[i])\n",
    "                 \n",
    "                #if _id ==0 and i == len(data_t)-1:\n",
    "                #    print ps[1].vx,ps[l*N+N+1].vx,ps[vari].vx\n",
    "                _id += 1\n",
    "    err  = np.sqrt(sim_rv)\n",
    "    errd = sim_rvd/(2.*delta*err)\n",
    "    errd2 = np.sqrt(sim_rvd2)\n",
    "    #err = sim_rv\n",
    "    #errd = sim_rvd\n",
    "    #errd2 = sim_rvd2\n",
    "    \n",
    "    errd2m = np.zeros((numvar,numvar))\n",
    "    _id = 0\n",
    "    for l in range(numvar):\n",
    "        for k in range(l+1):\n",
    "            fdd =   (errd2[_id][0] - errd2[_id][1] - errd2[_id][2] + errd2[_id][3])\n",
    "            #fdd =   (errd2[_id][0] -  errd2[_id][3])\n",
    "            #if _id==0:\n",
    "            #    print fdd, errd[0,0]-errd[0,1]\n",
    "            #print fdd, err\n",
    "            errd2m[l,k] = fdd\n",
    "            errd2m[k,l] = fdd\n",
    "            _id +=1\n",
    "    \n",
    "    #print err, -(errd-err)/delta, -(errd2-err)/(delta)\n",
    "    \n",
    "    return err, errd, errd2m/(4.*delta*delta)"
   ]
  },
  {
   "cell_type": "markdown",
   "metadata": {},
   "source": [
    "## Visual Check"
   ]
  },
  {
   "cell_type": "code",
   "execution_count": 387,
   "metadata": {
    "collapsed": false
   },
   "outputs": [],
   "source": [
    "gamma = 0.05\n",
    "a = np.array([4.5,0.6,0.,0.]) # initial parameters\n",
    "sim_rvs = []             # for plotting\n",
    "\n",
    "lastp = 1e200\n",
    "lasta = a\n",
    "lastgradient = []\n",
    "\n",
    "sim_rv0 = simulation_rv(a)\n",
    "\n",
    "N_grid = 150\n",
    "a_s = np.linspace(4.0,7.0,N_grid)\n",
    "\n",
    "errs = np.zeros(N_grid)\n",
    "gradients = np.zeros(N_grid)\n",
    "hessians = np.zeros(N_grid)\n",
    "\n",
    "for i,at in enumerate(a_s):\n",
    "    a[0] = at\n",
    "    err, gradient, hessian = simulation(a)\n",
    "    #print gradient[0], hessian[0,0]\n",
    "    # print hessian\n",
    "    errs[i] = err\n",
    "    gradients[i] = gradient[0]\n",
    "    hessians[i] = hessian[0,0]\n",
    "    \n",
    "\n",
    "        "
   ]
  },
  {
   "cell_type": "code",
   "execution_count": 392,
   "metadata": {
    "collapsed": false
   },
   "outputs": [
    {
     "data": {
      "image/png": "[encoded data removed]",
      "text/plain": [
       "<matplotlib.figure.Figure at 0x11b485c90>"
      ]
     },
     "metadata": {},
     "output_type": "display_data"
    },
    {
     "data": {
      "image/png": "[encoded data removed]",
      "text/plain": [
       "<matplotlib.figure.Figure at 0x11b4b6d10>"
      ]
     },
     "metadata": {},
     "output_type": "display_data"
    }
   ],
   "source": [
    "def widget_plot(ind):\n",
    "    ind = int(ind)\n",
    "    fig = plt.figure(figsize=(12,5))\n",
    "    plt.ylim([2,4])\n",
    "    plt.scatter(a_s, errs, color=\"k\");\n",
    "    \n",
    "    def f(a,i):\n",
    "        da = a - a_s[i] \n",
    "        return errs[i] + gradients[i]*da,  errs[i] + gradients[i]*da + hessians[i]*da*da\n",
    "    \n",
    "    a_s_fine = np.linspace(a_s[0],a_s[-1],N_grid*10)\n",
    "    err_fine = np.zeros(N_grid*10)\n",
    "    err_fine2 = np.zeros(N_grid*10)\n",
    "    for i,a in enumerate(a_s_fine):\n",
    "        err_fine[i], err_fine2[i] = f(a,ind)\n",
    "    plt.plot(a_s_fine, err_fine, color=\"r\");\n",
    "    plt.plot(a_s_fine, err_fine2, color=\"#FFA500\");\n",
    "    plt.grid()\n",
    "\n",
    "\n",
    "    \n",
    "    fig2 = plt.figure(figsize=(12,5))\n",
    "    plt.ylim([-5,5])\n",
    "    gradient_direct = np.zeros(N_grid)\n",
    "    hessian_direct = np.zeros(N_grid)\n",
    "    for i,a in enumerate(a_s_fine):\n",
    "        if i>0 and i<N_grid-1:\n",
    "            gradient_direct[i] = (errs[i+1]-errs[i-1])/(a_s[i+1]-a_s[i-1])\n",
    "            hessian_direct[i]  = (errs[i+1]-2.*errs[i]+errs[i-1])/((a_s[i+1]-a_s[i-1])*(a_s[i+1]-a_s[i-1]))\n",
    "    \n",
    "    plt.scatter(a_s, hessians, color=\"g\");\n",
    "    plt.scatter(a_s, hessian_direct, color=\"#aaffaa\");\n",
    "    plt.scatter(a_s, gradients, color=\"b\");\n",
    "    plt.scatter(a_s, gradient_direct, color=\"#aaaaff\");\n",
    "    plt.grid()\n",
    "\n",
    "\n",
    "    return fig, fig2\n",
    "\n",
    "\n",
    "w = interactive(widget_plot,\n",
    "                ind=(0,N_grid))\n",
    "\n",
    "display(w)"
   ]
  },
  {
   "cell_type": "code",
   "execution_count": 389,
   "metadata": {
    "collapsed": false
   },
   "outputs": [
    {
     "data": {
      "text/plain": [
       "array([-2.61670634, -1.81931954, -1.68819281, -1.82000661, -1.82685759,\n",
       "       -1.68054481, -1.50591941, -1.41862292, -1.46066636, -1.60733276,\n",
       "       -1.79386393, -1.93678299, -1.96120462, -1.84261332, -1.63407453,\n",
       "       -1.43868593, -1.34385702, -1.37811481, -1.51230775, -1.68041918,\n",
       "       -1.80246818, -1.81466927, -1.70581316, -1.5315709 , -1.3812337 ,\n",
       "       -1.32024844, -1.35685229, -1.44681804, -1.51896839, -1.50892884,\n",
       "       -1.39465011, -1.21418133, -1.04432107, -0.95251707, -0.96175355,\n",
       "       -1.04772816, -1.15577317, -1.22298315, -1.20322577, -1.09105959,\n",
       "       -0.92756125, -0.77482768, -0.67490018, -0.62582508, -0.5888829 ,\n",
       "       -0.51646115, -0.38343158, -0.20526926, -0.02936696,  0.09658933,\n",
       "        0.15455021,  0.16334475,  0.16465845,  0.20083104,  0.2941129 ,\n",
       "        0.43438664,  0.58355885,  0.69796694,  0.75468522,  0.76286564,\n",
       "        0.75510413,  0.7681427 ,  0.82402744,  0.91931334,  1.02786945,\n",
       "        1.11759452,  1.17085982,  1.19380684,  1.20863876,  1.23618016,\n",
       "        1.28125258,  1.33021156,  1.36190959,  1.36370533,  1.34026206,\n",
       "        1.30933833,  1.28894474,  1.28506375,  1.2875777 ,  1.27687146,\n",
       "        1.2367381 ,  1.16472978,  1.07353105,  0.98390456,  0.91438407,\n",
       "        0.87284198,  0.8533334 ,  0.83981166,  0.81524922,  0.77089688,\n",
       "        0.70973572,  0.64224241,  0.57790841,  0.51830655,  0.45605474,\n",
       "        0.38008073,  0.28339271,  0.16811368,  0.04496303, -0.07182622,\n",
       "       -0.17100211, -0.24890868, -0.3099383 , -0.36258572, -0.41361   ,\n",
       "       -0.46428875, -0.51122143, -0.55064448, -0.58264686, -0.61192492,\n",
       "       -0.64447525, -0.68270685, -0.72245881, -0.75384693, -0.7654308 ,\n",
       "       -0.74951234, -0.70591689, -0.64232366, -0.57106498, -0.50434268,\n",
       "       -0.45049521, -0.4127666 , -0.3902441 , -0.37970569, -0.37729053,\n",
       "       -0.37953413, -0.38379604, -0.38829614, -0.39196857, -0.39426813,\n",
       "       -0.39499495, -0.39415964, -0.39188863, -0.38836275, -0.38377944,\n",
       "       -0.37833151, -0.37219584, -0.36552869, -0.35846457, -0.35111705,\n",
       "       -0.3435809 , -0.33593412, -0.3282403 , -0.32055102, -0.3129076 ,\n",
       "       -0.30534269, -0.29788208, -0.29054557, -0.28334848, -0.27630188])"
      ]
     },
     "execution_count": 389,
     "metadata": {},
     "output_type": "execute_result"
    }
   ],
   "source": [
    "gradients"
   ]
  },
  {
   "cell_type": "code",
   "execution_count": null,
   "metadata": {
    "collapsed": true
   },
   "outputs": [],
   "source": []
  },
  {
   "cell_type": "code",
   "execution_count": null,
   "metadata": {
    "collapsed": true
   },
   "outputs": [],
   "source": []
  },
  {
   "cell_type": "code",
   "execution_count": null,
   "metadata": {
    "collapsed": true
   },
   "outputs": [],
   "source": []
  },
  {
   "cell_type": "code",
   "execution_count": null,
   "metadata": {
    "collapsed": true
   },
   "outputs": [],
   "source": []
  },
  {
   "cell_type": "code",
   "execution_count": null,
   "metadata": {
    "collapsed": true
   },
   "outputs": [],
   "source": []
  },
  {
   "cell_type": "code",
   "execution_count": null,
   "metadata": {
    "collapsed": true
   },
   "outputs": [],
   "source": []
  },
  {
   "cell_type": "code",
   "execution_count": null,
   "metadata": {
    "collapsed": true
   },
   "outputs": [],
   "source": []
  },
  {
   "cell_type": "code",
   "execution_count": null,
   "metadata": {
    "collapsed": true
   },
   "outputs": [],
   "source": []
  }
 ],
 "metadata": {
  "kernelspec": {
   "display_name": "Python 2",
   "language": "python",
   "name": "python2"
  },
  "language_info": {
   "codemirror_mode": {
    "name": "ipython",
    "version": 2
   },
   "file_extension": ".py",
   "mimetype": "text/x-python",
   "name": "python",
   "nbconvert_exporter": "python",
   "pygments_lexer": "ipython2",
   "version": "2.7.6"
  }
 },
 "nbformat": 4,
 "nbformat_minor": 0
}
