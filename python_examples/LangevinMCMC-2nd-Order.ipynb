{
 "cells": [
  {
   "cell_type": "code",
   "execution_count": 9,
   "metadata": {
    "collapsed": false
   },
   "outputs": [
    {
     "name": "stdout",
     "output_type": "stream",
     "text": [
      "---------------------------------\n",
      "Rebound version:     \t1.0.0\n",
      "Build on:            \tJun 10 2015 22:03:24\n",
      "Number of particles: \t0\n",
      "Simulation time:     \t0.000000\n",
      "---------------------------------\n"
     ]
    }
   ],
   "source": [
    "%matplotlib inline\n",
    "import rebound as r\n",
    "r.reset()\n",
    "import numpy as np\n",
    "import matplotlib.pyplot as plt\n",
    "r.status()"
   ]
  },
  {
   "cell_type": "markdown",
   "metadata": {},
   "source": [
    "## Simulated data:"
   ]
  },
  {
   "cell_type": "code",
   "execution_count": 10,
   "metadata": {
    "collapsed": false
   },
   "outputs": [],
   "source": [
    "data_N = 30\n",
    "data_t = np.linspace(0.1,100,data_N)+0.5*np.random.rand(data_N)\n",
    "data_rv = 0.500883379885605*(np.sin(2.*np.pi*data_t/50.+0.2*np.pi)+0.6*(np.random.rand(data_N)-0.5))"
   ]
  },
  {
   "cell_type": "code",
   "execution_count": 11,
   "metadata": {
    "collapsed": false,
    "scrolled": false
   },
   "outputs": [
    {
     "data": {
      "image/png": "[encoded data removed]",
      "text/plain": [
       "<matplotlib.figure.Figure at 0x10a2a5610>"
      ]
     },
     "metadata": {},
     "output_type": "display_data"
    }
   ],
   "source": [
    "plt.scatter(data_t, data_rv);"
   ]
  },
  {
   "cell_type": "markdown",
   "metadata": {},
   "source": [
    "## Setting up simulations"
   ]
  },
  {
   "cell_type": "code",
   "execution_count": 114,
   "metadata": {
    "collapsed": false
   },
   "outputs": [],
   "source": [
    "def simulation_rv(cart):\n",
    "    r.reset()\n",
    "    r.add(m=1.)\n",
    "    r.add(a=cart[0],e=cart[1],anom=cart[2],omega=cart[3])\n",
    "    ps = r.particles\n",
    "    sim_rv = np.zeros(len(data_t))\n",
    "    for i,t in enumerate(data_t):\n",
    "        r.integrate(t)\n",
    "        sim_rv[i] = ps[1].vx\n",
    "    return sim_rv\n",
    "\n",
    "def simulation(cart):\n",
    "    r.reset()\n",
    "    numvar = 4\n",
    "    r.N_megnopp = numvar # 4 variation equations per particle\n",
    "    r.add(m=1.)\n",
    "    op = r.Particle(a=cart[0],e=cart[1],anom=cart[2],omega=cart[3])\n",
    "    \n",
    "    r.add(op)\n",
    "    N = r.N\n",
    "    \n",
    "    r.init_megno(0.)\n",
    "    ps = r.particles\n",
    "    \n",
    "    \n",
    "    delta = 1e-8\n",
    "    # First order\n",
    "    for l in range(numvar):\n",
    "        cart2 = cart.copy()\n",
    "        cart2[l] += delta\n",
    "        mp = r.Particle(primary=ps[0],a=cart2[0],e=np.clip(cart2[1],0.,0.9),anom=cart2[2],omega=cart2[3])\n",
    "\n",
    "        vari = (N*(l+1))+1\n",
    "        ps[vari].x  = ps[1].x  - mp.x\n",
    "        ps[vari].y  = ps[1].y  - mp.y\n",
    "        ps[vari].z  = ps[1].z  - mp.z\n",
    "        ps[vari].vx = ps[1].vx - mp.vx\n",
    "        ps[vari].vy = ps[1].vy - mp.vy\n",
    "        ps[vari].vz = ps[1].vz - mp.vz\n",
    "        \n",
    "    _id = 0\n",
    "    # Second order\n",
    "     \n",
    "    sim_rv = 0.\n",
    "    sim_rvd = np.zeros((numvar,2))\n",
    "    sim_rvd2 = np.zeros((numvar*(numvar+1)/2,4))\n",
    "    for i,t in enumerate(data_t):\n",
    "        r.integrate(t)\n",
    "        sim_rv  += np.square(ps[1].vx-data_rv[i])\n",
    "        for k in range(numvar):\n",
    "            sim_rvd[k][0] += np.square(ps[1].vx+ps[(k+1)*N+1].vx-data_rv[i])\n",
    "            sim_rvd[k][1] += np.square(ps[1].vx-ps[(k+1)*N+1].vx-data_rv[i])\n",
    "        _id = 0\n",
    "        for l in range(numvar):\n",
    "            for k in range(l+1):\n",
    "                sim_rvd2[_id][0] += np.square(ps[1].vx + ps[l*N+N+1].vx + ps[k*N+N+1].vx + ps[_id*N+N*numvar+N+1].vx - data_rv[i])\n",
    "                sim_rvd2[_id][1] += np.square(ps[1].vx + ps[l*N+N+1].vx - ps[k*N+N+1].vx + ps[_id*N+N*numvar+N+1].vx - data_rv[i])\n",
    "                sim_rvd2[_id][2] += np.square(ps[1].vx - ps[l*N+N+1].vx + ps[k*N+N+1].vx + ps[_id*N+N*numvar+N+1].vx - data_rv[i])\n",
    "                sim_rvd2[_id][3] += np.square(ps[1].vx - ps[l*N+N+1].vx - ps[k*N+N+1].vx + ps[_id*N+N*numvar+N+1].vx - data_rv[i])\n",
    "                _id += 1\n",
    "    err  = np.sqrt(sim_rv)\n",
    "    errd = np.sqrt(sim_rvd)\n",
    "    errd2 = np.sqrt(sim_rvd2)\n",
    "    #err = sim_rv\n",
    "    #errd = sim_rvd\n",
    "    #errd2 = sim_rvd2\n",
    "    \n",
    "    errd2m = np.zeros((numvar,numvar))\n",
    "    _id = 0\n",
    "    for l in range(numvar):\n",
    "        for k in range(l+1):\n",
    "            fdd =   (errd2[_id][0] - errd2[_id][1] - errd2[_id][2] + errd2[_id][3])\n",
    "            #print fdd, err\n",
    "            errd2m[l,k] = fdd\n",
    "            errd2m[k,l] = fdd\n",
    "            _id +=1\n",
    "    \n",
    "    #print err, -(errd-err)/delta, -(errd2-err)/(delta)\n",
    "    \n",
    "    return err, (errd[:,0]-errd[:,1])/(2.*delta), errd2m/(4.*delta*delta)"
   ]
  },
  {
   "cell_type": "markdown",
   "metadata": {},
   "source": [
    "## Gradient descent to find minimum"
   ]
  },
  {
   "cell_type": "code",
   "execution_count": 115,
   "metadata": {
    "collapsed": false
   },
   "outputs": [],
   "source": [
    "gamma = 0.05\n",
    "a = np.array([4.5,0.6,0.,0.]) # initial parameters\n",
    "sim_rvs = []             # for plotting\n",
    "\n",
    "lastp = 1e200\n",
    "lasta = a\n",
    "lastgradient = []\n",
    "\n",
    "sim_rv0 = simulation_rv(a)\n",
    "\n",
    "N_grid = 20\n",
    "a_s = np.linspace(4.0,6.0,N_grid)\n",
    "\n",
    "errs = []\n",
    "gradients = []\n",
    "hessians = []\n",
    "\n",
    "for i,at in enumerate(a_s):\n",
    "    a[0] = at\n",
    "    err, gradient, hessian = simulation(a)\n",
    "    # print hessian\n",
    "    errs.append(err)\n",
    "    gradients.append(gradient[0])\n",
    "    hessians.append(hessian[0,0])\n",
    "    \n",
    "\n",
    "        "
   ]
  },
  {
   "cell_type": "code",
   "execution_count": 118,
   "metadata": {
    "collapsed": false
   },
   "outputs": [
    {
     "data": {
      "image/png": "[encoded data removed]",
      "text/plain": [
       "<matplotlib.figure.Figure at 0x10a241e90>"
      ]
     },
     "metadata": {},
     "output_type": "display_data"
    }
   ],
   "source": [
    "fig = plt.figure(figsize=(12,5))\n",
    "plt.ylim([-9,135])\n",
    "plt.scatter(a_s, errs, color=\"k\");\n",
    "\n",
    "def f(a,i):\n",
    "    da = a_s[i] - a\n",
    "    return errs[i] + gradients[i]*da + hessians[i]*da*da\n",
    "\n",
    "a_s_fine = np.linspace(a_s[0],a_s[-1],N_grid*10)\n",
    "err_fine = np.zeros(N_grid*10)\n",
    "for i,a in enumerate(a_s_fine):\n",
    "    err_fine[i] = f(a,18)\n",
    "plt.plot(a_s_fine, err_fine, color=\"r\");\n",
    "plt.scatter(a_s, hessians, color=\"g\");\n",
    "plt.scatter(a_s, gradients, color=\"b\");\n"
   ]
  },
  {
   "cell_type": "code",
   "execution_count": 119,
   "metadata": {
    "collapsed": false
   },
   "outputs": [
    {
     "ename": "NameError",
     "evalue": "name 'sim_rv1' is not defined",
     "output_type": "error",
     "traceback": [
      "\u001b[0;31m---------------------------------------------------------------------------\u001b[0m",
      "\u001b[0;31mNameError\u001b[0m                                 Traceback (most recent call last)",
      "\u001b[0;32m<ipython-input-119-9a4c19815246>\u001b[0m in \u001b[0;36m<module>\u001b[0;34m()\u001b[0m\n\u001b[1;32m      3\u001b[0m \u001b[0mplt\u001b[0m\u001b[0;34m.\u001b[0m\u001b[0mplot\u001b[0m\u001b[0;34m(\u001b[0m\u001b[0mdata_t\u001b[0m\u001b[0;34m,\u001b[0m \u001b[0mdata_rv\u001b[0m\u001b[0;34m,\u001b[0m \u001b[0mcolor\u001b[0m\u001b[0;34m=\u001b[0m\u001b[0;34m\"k\"\u001b[0m\u001b[0;34m)\u001b[0m\u001b[0;34m;\u001b[0m\u001b[0;34m\u001b[0m\u001b[0m\n\u001b[1;32m      4\u001b[0m \u001b[0mplt\u001b[0m\u001b[0;34m.\u001b[0m\u001b[0mplot\u001b[0m\u001b[0;34m(\u001b[0m\u001b[0mdata_t\u001b[0m\u001b[0;34m,\u001b[0m \u001b[0msim_rv0\u001b[0m\u001b[0;34m,\u001b[0m\u001b[0mcolor\u001b[0m\u001b[0;34m=\u001b[0m\u001b[0;34m\"g\"\u001b[0m\u001b[0;34m)\u001b[0m\u001b[0;34m;\u001b[0m\u001b[0;34m\u001b[0m\u001b[0m\n\u001b[0;32m----> 5\u001b[0;31m \u001b[0mplt\u001b[0m\u001b[0;34m.\u001b[0m\u001b[0mplot\u001b[0m\u001b[0;34m(\u001b[0m\u001b[0mdata_t\u001b[0m\u001b[0;34m,\u001b[0m \u001b[0msim_rv1\u001b[0m\u001b[0;34m,\u001b[0m\u001b[0mcolor\u001b[0m\u001b[0;34m=\u001b[0m\u001b[0;34m\"r\"\u001b[0m\u001b[0;34m)\u001b[0m\u001b[0;34m;\u001b[0m\u001b[0;34m\u001b[0m\u001b[0m\n\u001b[0m",
      "\u001b[0;31mNameError\u001b[0m: name 'sim_rv1' is not defined"
     ]
    },
    {
     "data": {
      "image/png": "[encoded data removed]",
      "text/plain": [
       "<matplotlib.figure.Figure at 0x1077d28d0>"
      ]
     },
     "metadata": {},
     "output_type": "display_data"
    }
   ],
   "source": [
    "fig = plt.figure(figsize=(12,5))\n",
    "plt.scatter(data_t, data_rv, color=\"k\");\n",
    "plt.plot(data_t, data_rv, color=\"k\");\n",
    "plt.plot(data_t, sim_rv0,color=\"g\");\n",
    "plt.plot(data_t, sim_rv1,color=\"r\");\n"
   ]
  },
  {
   "cell_type": "markdown",
   "metadata": {},
   "source": [
    "Black curve is data, green curve is initial guess, red curve is final \"fit\"."
   ]
  },
  {
   "cell_type": "code",
   "execution_count": 49,
   "metadata": {
    "collapsed": false
   },
   "outputs": [
    {
     "data": {
      "image/png": "[encoded data removed]",
      "text/plain": [
       "<matplotlib.figure.Figure at 0x10d604310>"
      ]
     },
     "metadata": {},
     "output_type": "display_data"
    }
   ],
   "source": [
    "plt.plot(errs);"
   ]
  },
  {
   "cell_type": "code",
   "execution_count": null,
   "metadata": {
    "collapsed": true
   },
   "outputs": [],
   "source": []
  }
 ],
 "metadata": {
  "kernelspec": {
   "display_name": "Python 2",
   "language": "python",
   "name": "python2"
  },
  "language_info": {
   "codemirror_mode": {
    "name": "ipython",
    "version": 2
   },
   "file_extension": ".py",
   "mimetype": "text/x-python",
   "name": "python",
   "nbconvert_exporter": "python",
   "pygments_lexer": "ipython2",
   "version": "2.7.6"
  }
 },
 "nbformat": 4,
 "nbformat_minor": 0
}
