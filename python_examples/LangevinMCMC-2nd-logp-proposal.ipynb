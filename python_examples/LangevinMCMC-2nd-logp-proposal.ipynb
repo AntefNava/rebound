{
 "cells": [
  {
   "cell_type": "code",
   "execution_count": 1,
   "metadata": {
    "collapsed": false
   },
   "outputs": [
    {
     "name": "stdout",
     "output_type": "stream",
     "text": [
      "---------------------------------\n",
      "Rebound version:     \t1.1.0\n",
      "Build on:            \tJun 24 2015 10:13:57\n",
      "Number of particles: \t0\n",
      "Simulation time:     \t0.000000\n",
      "---------------------------------\n"
     ]
    },
    {
     "name": "stderr",
     "output_type": "stream",
     "text": [
      ":0: FutureWarning: IPython widgets are experimental and may change in the future.\n"
     ]
    }
   ],
   "source": [
    "%matplotlib inline\n",
    "import rebound as r\n",
    "r.reset()\n",
    "import numpy as np\n",
    "from scipy import stats\n",
    "import matplotlib.pyplot as plt\n",
    "r.status()\n",
    "from IPython.html.widgets import interact, interactive\n",
    "from IPython.display import display"
   ]
  },
  {
   "cell_type": "markdown",
   "metadata": {},
   "source": [
    "## Simulated data:"
   ]
  },
  {
   "cell_type": "code",
   "execution_count": 22,
   "metadata": {
    "collapsed": false
   },
   "outputs": [
    {
     "data": {
      "image/png": "[encoded data removed]",
      "text/plain": [
       "<matplotlib.figure.Figure at 0x111cf3950>"
      ]
     },
     "metadata": {},
     "output_type": "display_data"
    }
   ],
   "source": [
    "def particleSetup(cart):\n",
    "    if len(cart)==4:\n",
    "        return r.Particle(primary=r.particles[0],a=cart[0],e=np.power(10.,cart[1]),anom=cart[2],omega=cart[3])\n",
    "    elif len(cart)==2:\n",
    "        return r.Particle(primary=r.particles[0],a=cart[0],e=(np.tanh(cart[1])+1.)/2.,anom=0.,omega=-np.pi/2.)\n",
    "    elif len(cart)==3:\n",
    "        omega = np.arctan2(cart[2],cart[1])\n",
    "        e = np.power(cart[1]**2+cart[2]**2,1./2.)/(100.)\n",
    "        return r.Particle(primary=r.particles[0],a=cart[0],e=e, anom=0.,omega=omega)\n",
    "    else:\n",
    "        return r.Particle(primary=r.particles[0],a=cart[0],e=0.,anom=0.,omega=-np.pi/2.)\n",
    "\n",
    "def getRV(cart):\n",
    "    r.reset()\n",
    "    r.N_megnopp = N_param \n",
    "    r.add(m=1.)\n",
    "    r.add(particleSetup(cart))\n",
    "    ps = r.particles\n",
    "    rvs = np.zeros(len(data_t))\n",
    "    for i,t in enumerate(data_t):\n",
    "        r.integrate(t)\n",
    "        rvs[i] = ps[1].vx\n",
    "    return rvs\n",
    "    \n",
    "a_real = [4.0,-.5,0,np.pi/2.]\n",
    "data_N = 40\n",
    "data_t = np.linspace(0.,150.,data_N)+0.0005*np.random.rand(data_N)\n",
    "data_rv = getRV(a_real)+0.05*(np.random.rand(data_N)-0.5)\n",
    "plt.scatter(data_t, data_rv);"
   ]
  },
  {
   "cell_type": "markdown",
   "metadata": {},
   "source": [
    "## Setting up simulations"
   ]
  },
  {
   "cell_type": "code",
   "execution_count": null,
   "metadata": {
    "collapsed": false
   },
   "outputs": [],
   "source": [
    "N = 2\n",
    "def varid2(l,k):\n",
    "    if k>l:\n",
    "        raise Exception(\"error\")\n",
    "    if l>=N_param:\n",
    "        raise Exception(\"error\")\n",
    "    var = l*(l+1)/2+k\n",
    "    return var*N+1+N+N*N_param\n",
    "def varid1(l):\n",
    "    if l>=N_param:\n",
    "        raise Exception(\"error\")\n",
    "    return N*l+1+N\n",
    "    \n",
    "def particleSetup(cart):\n",
    "    if len(cart)==4:\n",
    "        return r.Particle(primary=r.particles[0],a=cart[0],e=np.power(10.,cart[1]),anom=cart[2],omega=cart[3])\n",
    "    elif len(cart)==2:\n",
    "        return r.Particle(primary=r.particles[0],a=cart[0],e=(np.tanh(cart[1])+1.)/2.,anom=0.,omega=-np.pi/2.)\n",
    "    elif len(cart)==3:\n",
    "        omega = np.arctan2(cart[2],cart[1])\n",
    "        e = np.power(cart[1]**2+cart[2]**2,1./2.)/(100.)\n",
    "        return r.Particle(primary=r.particles[0],a=cart[0],e=e, anom=0.,omega=omega)\n",
    "    else:\n",
    "        return r.Particle(primary=r.particles[0],a=cart[0],e=0.,anom=0.,omega=-np.pi/2.)\n",
    "\n",
    "def getRV(cart):\n",
    "    r.reset()\n",
    "    r.N_megnopp = N_param \n",
    "    r.add(m=1.)\n",
    "    r.add(particleSetup(cart))\n",
    "    ps = r.particles\n",
    "    rvs = np.zeros(len(data_t))\n",
    "    for i,t in enumerate(data_t):\n",
    "        r.integrate(t)\n",
    "        rvs[i] = ps[1].vx\n",
    "    return rvs\n",
    "    \n",
    "    \n",
    "def simulation(cart):\n",
    "    r.reset()\n",
    "    r.N_megnopp = N_param \n",
    "    r.add(m=1.)\n",
    "    op = particleSetup(cart)\n",
    "    r.add(op)\n",
    "    N = r.N\n",
    "    r.init_megno(0.)\n",
    "    ps = r.particles\n",
    "    \n",
    "    delta = 1e-4\n",
    "    # First order\n",
    "    for l in range(N_param):\n",
    "        cart2 = cart.copy()\n",
    "        cart2[l] += delta/2.\n",
    "        mp = particleSetup(cart2)\n",
    "        cart2 = cart.copy()\n",
    "        cart2[l] -= delta/2.\n",
    "        mm = particleSetup(cart2)\n",
    "\n",
    "        vari = varid1(l)\n",
    "        ps[vari].x  = (mp.x  - mm.x  )\n",
    "        ps[vari].y  = (mp.y  - mm.y  )\n",
    "        ps[vari].z  = (mp.z  - mm.z  )\n",
    "        ps[vari].vx = (mp.vx - mm.vx )\n",
    "        ps[vari].vy = (mp.vy - mm.vy )\n",
    "        ps[vari].vz = (mp.vz - mm.vz )\n",
    "        \n",
    "    # Second order\n",
    "    for l in range(N_param):\n",
    "        for k in range(l+1):\n",
    "            fac = 2.\n",
    "            cart2 = cart.copy()\n",
    "            cart2[l] += delta/fac\n",
    "            cart2[k] += delta/fac\n",
    "            mpp = particleSetup(cart2)\n",
    "            cart2 = cart.copy()\n",
    "            cart2[l] += delta/fac\n",
    "            cart2[k] -= delta/fac\n",
    "            mpm = particleSetup(cart2)\n",
    "            cart2 = cart.copy()\n",
    "            cart2[l] -= delta/fac\n",
    "            cart2[k] += delta/fac\n",
    "            mmp = particleSetup(cart2)\n",
    "            cart2 = cart.copy()\n",
    "            cart2[l] -= delta/fac\n",
    "            cart2[k] -= delta/fac\n",
    "            mmm = particleSetup(cart2)\n",
    "            \n",
    "            vari2 = varid2(l,k)\n",
    "            ps[vari2].x  = mpp.x  - mpm.x  - mmp.x  + mmm.x\n",
    "            ps[vari2].y  = mpp.y  - mpm.y  - mmp.y  + mmm.y \n",
    "            ps[vari2].z  = mpp.z  - mpm.z  - mmp.z  + mmm.z \n",
    "            ps[vari2].vx = mpp.vx - mpm.vx - mmp.vx + mmm.vx\n",
    "            ps[vari2].vy = mpp.vy - mpm.vy - mmp.vy + mmm.vy\n",
    "            ps[vari2].vz = mpp.vz - mpm.vz - mmp.vz + mmm.vz\n",
    "    \n",
    "    \n",
    "    ##################################################################\n",
    "    # INTEGRATION\n",
    "    logp    = 0.\n",
    "    logp_d  = np.zeros(N_param)\n",
    "    logp_d2 = np.zeros((N_param*(N_param+1)/2,2))\n",
    "    for i,t in enumerate(data_t):\n",
    "        r.integrate(t)\n",
    "        dv = ps[1].vx-data_rv[i]\n",
    "        logp  += -dv**2\n",
    "        for k in range(N_param):\n",
    "            vari1 = varid1(k)\n",
    "            logp_d[k] += -2.*ps[vari1].vx/delta * dv\n",
    "        _id = 0\n",
    "        for l in range(N_param):\n",
    "            for k in range(l+1):\n",
    "                vari2 = varid2(l,k)\n",
    "                vari1l = varid1(l)\n",
    "                vari1k = varid1(k)\n",
    "                logp_d2[_id][0] += -2.*(ps[vari1l].vx * ps[vari1k].vx)/(delta*delta)\n",
    "                # Expectation value removes next line\n",
    "                logp_d2[_id][1] += -2.*(ps[vari2].vx * dv)/(delta*delta)\n",
    "                _id += 1\n",
    "    \n",
    "    logp_d2m = np.zeros((N_param,N_param))\n",
    "    _id = 0\n",
    "    for l in range(N_param):\n",
    "        for k in range(l+1):\n",
    "            fdd = logp_d2[_id][0] + logp_d2[_id][1]\n",
    "            logp_d2m[l,k] = fdd\n",
    "            logp_d2m[k,l] = fdd\n",
    "            _id +=1\n",
    "    \n",
    "    return logp, logp_d, logp_d2m\n",
    "\n",
    "a = np.array([3.5,-1.,0.,-np.pi/2.]) # initial parameters: a, log e, lambda, omega\n",
    "#a = np.array([3.0,0.]) # initial parameters: a, atanh(e*2)-1 \n",
    "#a = np.array([3.0,0.1,0.4]) # initial parameters: a, h, k\n",
    "\n",
    "\n",
    "N_param = len(a)\n",
    "N_steps = 2000\n",
    "epsilon = 0.2\n",
    "errs = np.zeros(N_steps)\n",
    "chain = np.zeros((N_steps,N_param))\n",
    "gradientchain = np.zeros((N_steps,N_param))\n",
    "\n",
    "def softabs(hessian):\n",
    "    alpha = 0.5\n",
    "    lam, Q = np.linalg.eig(-hessian)\n",
    "    lam_twig = lam*1./np.tanh(alpha*lam)\n",
    "    H_twig = np.dot(Q,np.dot(np.diag(lam_twig),Q.T))    \n",
    "    #print lam\n",
    "    #print lam_twig\n",
    "    #H_twig = np.identity(N_param)\n",
    "    return H_twig\n",
    "\n",
    "first = 1\n",
    "failcount = 0\n",
    "for i in range(N_steps):\n",
    "    if first==1:\n",
    "        first = 0\n",
    "        logp, gradient, hessian = simulation(a)\n",
    "        G     = softabs(hessian)\n",
    "        Ginv  = np.linalg.inv(G)\n",
    "        Gsqrt = np.linalg.cholesky(np.linalg.inv(G))    \n",
    "        mu    = a + epsilon**2 * np.dot(Ginv, gradient)/2.\n",
    "    \n",
    "    astar = mu + epsilon * np.dot(Gsqrt, np.random.normal(0.,1.,N_param))\n",
    "\n",
    "    try:\n",
    "        logpstar, gradientstar, hessianstar = simulation(astar)\n",
    "        Gstar     = softabs(hessianstar)\n",
    "        Ginvstar  = np.linalg.inv(Gstar)\n",
    "        Gsqrtstar = np.linalg.cholesky(np.linalg.inv(Gstar))\n",
    "        mustar = astar + epsilon**2 * np.dot(Ginvstar, gradientstar)/2.\n",
    "   \n",
    "    \n",
    "        cov = epsilon**2 * Ginv\n",
    "        covstar = epsilon**2 * Ginvstar\n",
    "    \n",
    "        q_t_ts = stats.multivariate_normal(mu, cov=epsilon**2*Ginv).pdf(astar)\n",
    "        q_ts_t = stats.multivariate_normal(mustar, cov=epsilon**2*Ginvstar).pdf(a)\n",
    "        #print \"%.8f\" %(np.exp(logpstar-logp))\n",
    "        if min(1.,np.exp(logpstar-logp)*q_t_ts/q_ts_t) > np.random.uniform():\n",
    "            a = astar\n",
    "            logp = logpstar\n",
    "            gradient = gradientstar\n",
    "            hessian = hessianstar\n",
    "            G = Gstar\n",
    "            Ginv = Ginvstar\n",
    "            Gsqrt = Gsqrtstar \n",
    "            mu = mustar\n",
    "    except:\n",
    "        failcount += 1\n",
    "        pass\n",
    "\n",
    "    chain[i] = a\n",
    "    errs[i] = logp\n",
    "    gradientchain[i] = gradient[0]\n",
    "\n",
    "print \"Fails: %d\" %failcount\n",
    "    \n",
    "fig1 = plt.figure(figsize=(12,5))\n",
    "plt.plot(range(N_steps), errs, color=\"b\");\n",
    "plt.grid()\n",
    "for i in range(N_param):\n",
    "    fig1 = plt.figure(figsize=(12,5))\n",
    "    plt.plot(range(N_steps), chain[:,i], color=\"r\");\n",
    "    plt.plot([0,N_steps-1], [a_real[i],a_real[i]], color=\"b\");\n",
    "    plt.grid()\n",
    "#for i in range(N_param):\n",
    "#    fig1 = plt.figure(figsize=(12,5))\n",
    "#    plt.plot(range(N_steps), gradientchain[:,i], color=\"g\");\n",
    "#    plt.grid()  \n",
    " "
   ]
  },
  {
   "cell_type": "code",
   "execution_count": 24,
   "metadata": {
    "collapsed": false
   },
   "outputs": [
    {
     "data": {
      "image/png": "[encoded data removed]",
      "text/plain": [
       "<matplotlib.figure.Figure at 0x111843810>"
      ]
     },
     "metadata": {},
     "output_type": "display_data"
    }
   ],
   "source": [
    "def widgetplot(ind):\n",
    "    ind = int(ind)\n",
    "    rvs = getRV(chain[ind,:])\n",
    "    fig1 = plt.figure(figsize=(12,5))\n",
    "    plt.plot(data_t, rvs, color=\"r\");\n",
    "    plt.scatter(data_t, data_rv, color=\"b\");\n",
    "    plt.grid()\n",
    "\n",
    "w = interactive(widgetplot, ind=(0,N_steps-1))\n",
    "display(w)"
   ]
  },
  {
   "cell_type": "code",
   "execution_count": null,
   "metadata": {
    "collapsed": true
   },
   "outputs": [],
   "source": []
  },
  {
   "cell_type": "code",
   "execution_count": null,
   "metadata": {
    "collapsed": true
   },
   "outputs": [],
   "source": []
  },
  {
   "cell_type": "code",
   "execution_count": null,
   "metadata": {
    "collapsed": true
   },
   "outputs": [],
   "source": []
  },
  {
   "cell_type": "code",
   "execution_count": null,
   "metadata": {
    "collapsed": true
   },
   "outputs": [],
   "source": []
  },
  {
   "cell_type": "code",
   "execution_count": null,
   "metadata": {
    "collapsed": true
   },
   "outputs": [],
   "source": []
  },
  {
   "cell_type": "code",
   "execution_count": null,
   "metadata": {
    "collapsed": true
   },
   "outputs": [],
   "source": []
  }
 ],
 "metadata": {
  "kernelspec": {
   "display_name": "Python 2",
   "language": "python",
   "name": "python2"
  },
  "language_info": {
   "codemirror_mode": {
    "name": "ipython",
    "version": 2
   },
   "file_extension": ".py",
   "mimetype": "text/x-python",
   "name": "python",
   "nbconvert_exporter": "python",
   "pygments_lexer": "ipython2",
   "version": "2.7.6"
  }
 },
 "nbformat": 4,
 "nbformat_minor": 0
}
