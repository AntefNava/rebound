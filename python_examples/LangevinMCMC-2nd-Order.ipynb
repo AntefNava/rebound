{
 "cells": [
  {
   "cell_type": "code",
   "execution_count": 9,
   "metadata": {
    "collapsed": false
   },
   "outputs": [
    {
     "name": "stdout",
     "output_type": "stream",
     "text": [
      "---------------------------------\n",
      "Rebound version:     \t1.0.0\n",
      "Build on:            \tJun 10 2015 22:03:24\n",
      "Number of particles: \t0\n",
      "Simulation time:     \t0.000000\n",
      "---------------------------------\n"
     ]
    }
   ],
   "source": [
    "%matplotlib inline\n",
    "import rebound as r\n",
    "r.reset()\n",
    "import numpy as np\n",
    "import matplotlib.pyplot as plt\n",
    "r.status()"
   ]
  },
  {
   "cell_type": "markdown",
   "metadata": {},
   "source": [
    "## Simulated data:"
   ]
  },
  {
   "cell_type": "code",
   "execution_count": 10,
   "metadata": {
    "collapsed": false
   },
   "outputs": [],
   "source": [
    "data_N = 30\n",
    "data_t = np.linspace(0.1,100,data_N)+0.5*np.random.rand(data_N)\n",
    "data_rv = 0.500883379885605*(np.sin(2.*np.pi*data_t/50.+0.2*np.pi)+0.6*(np.random.rand(data_N)-0.5))"
   ]
  },
  {
   "cell_type": "code",
   "execution_count": 11,
   "metadata": {
    "collapsed": false,
    "scrolled": false
   },
   "outputs": [
    {
     "data": {
      "image/png": "[encoded data removed]",
      "text/plain": [
       "<matplotlib.figure.Figure at 0x10a2a5610>"
      ]
     },
     "metadata": {},
     "output_type": "display_data"
    }
   ],
   "source": [
    "plt.scatter(data_t, data_rv);"
   ]
  },
  {
   "cell_type": "markdown",
   "metadata": {},
   "source": [
    "## Setting up simulations"
   ]
  },
  {
   "cell_type": "code",
   "execution_count": 86,
   "metadata": {
    "collapsed": false
   },
   "outputs": [],
   "source": [
    "def simulation_rv(cart):\n",
    "    r.reset()\n",
    "    r.add(m=1.)\n",
    "    r.add(a=cart[0],e=cart[1],anom=cart[2],omega=cart[3])\n",
    "    ps = r.particles\n",
    "    sim_rv = np.zeros(len(data_t))\n",
    "    for i,t in enumerate(data_t):\n",
    "        r.integrate(t)\n",
    "        sim_rv[i] = ps[1].vx\n",
    "    return sim_rv\n",
    "\n",
    "def simulation(cart):\n",
    "    r.reset()\n",
    "    numvar = 4\n",
    "    r.N_megnopp = numvar # 4 variation equations per particle\n",
    "    r.add(m=1.)\n",
    "    op = r.Particle(a=cart[0],e=cart[1],anom=cart[2],omega=cart[3])\n",
    "    \n",
    "    r.add(op)\n",
    "    N = r.N\n",
    "    \n",
    "    r.init_megno(0.)\n",
    "    ps = r.particles\n",
    "    \n",
    "    \n",
    "    delta = 1e-6\n",
    "    # First order\n",
    "    for l in range(numvar):\n",
    "        cart2 = cart.copy()\n",
    "        cart2[l] += delta\n",
    "        mp = r.Particle(primary=ps[0],a=cart2[0],e=np.clip(cart2[1],0.,0.9),anom=cart2[2],omega=cart2[3])\n",
    "\n",
    "        vari = (N*(l+1))+1\n",
    "        ps[vari].x  = ps[1].x  - mp.x\n",
    "        ps[vari].y  = ps[1].y  - mp.y\n",
    "        ps[vari].z  = ps[1].z  - mp.z\n",
    "        ps[vari].vx = ps[1].vx - mp.vx\n",
    "        ps[vari].vy = ps[1].vy - mp.vy\n",
    "        ps[vari].vz = ps[1].vz - mp.vz\n",
    "        \n",
    "    _id = 0\n",
    "    # Second order\n",
    "     \n",
    "    sim_rv = 0.\n",
    "    sim_rvd = np.zeros((numvar,2))\n",
    "    sim_rvd2 = np.zeros((numvar*(numvar+1)/2,4))\n",
    "    for i,t in enumerate(data_t):\n",
    "        r.integrate(t)\n",
    "        sim_rv  += np.square(ps[1].vx-data_rv[i])\n",
    "        for k in range(numvar):\n",
    "            sim_rvd[k][0] += np.square(ps[1].vx+ps[(k+1)*N+1].vx-data_rv[i])\n",
    "            sim_rvd[k][1] += np.square(ps[1].vx-ps[(k+1)*N+1].vx-data_rv[i])\n",
    "        _id = 0\n",
    "        for l in range(numvar):\n",
    "            for k in range(l+1):\n",
    "                sim_rvd2[_id][0] += np.square(ps[1].vx + ps[l*N+N+1].vx + ps[k*N+N+1].vx + ps[_id*N+N*numvar+N+1].vx - data_rv[i])\n",
    "                sim_rvd2[_id][1] += np.square(ps[1].vx + ps[l*N+N+1].vx - ps[k*N+N+1].vx + ps[_id*N+N*numvar+N+1].vx - data_rv[i])\n",
    "                sim_rvd2[_id][2] += np.square(ps[1].vx - ps[l*N+N+1].vx + ps[k*N+N+1].vx + ps[_id*N+N*numvar+N+1].vx - data_rv[i])\n",
    "                sim_rvd2[_id][3] += np.square(ps[1].vx - ps[l*N+N+1].vx - ps[k*N+N+1].vx + ps[_id*N+N*numvar+N+1].vx - data_rv[i])\n",
    "                _id += 1\n",
    "    err  = np.sqrt(sim_rv)\n",
    "    errd = np.sqrt(sim_rvd)\n",
    "    errd2 = np.sqrt(sim_rvd2)\n",
    "    \n",
    "    errd2m = np.zeros((numvar,numvar))\n",
    "    _id = 0\n",
    "    for l in range(numvar):\n",
    "        for k in range(l+1):\n",
    "            fdd =   (errd2[_id][0] - errd2[_id][1] - errd2[_id][2] + errd2[_id][3])\n",
    "            #print fdd, err\n",
    "            errd2m[l,k] = fdd\n",
    "            errd2m[k,l] = fdd\n",
    "            _id +=1\n",
    "    \n",
    "    #print err, -(errd-err)/delta, -(errd2-err)/(delta)\n",
    "    \n",
    "    return err, (errd[:,0]-errd[:,1])/(2.*delta), errd2m/(4.*delta*delta)"
   ]
  },
  {
   "cell_type": "markdown",
   "metadata": {},
   "source": [
    "## Gradient descent to find minimum"
   ]
  },
  {
   "cell_type": "code",
   "execution_count": 87,
   "metadata": {
    "collapsed": false
   },
   "outputs": [
    {
     "name": "stdout",
     "output_type": "stream",
     "text": [
      "[[  6.01677597e+01   2.27962094e+00  -2.75313106e+00  -4.90540941e+00]\n",
      " [  2.27962094e+00   2.03770334e+00   3.79696274e-02   9.58122470e-02]\n",
      " [ -2.75313106e+00   3.79696274e-02   2.25264252e-01   4.12780921e-01]\n",
      " [ -4.90540941e+00   9.58122470e-02   4.12780921e-01   1.01108011e+00]]\n",
      "[[ 16.49125281  -0.12756463  -1.38467016  -2.23765451]\n",
      " [ -0.12756463   1.04249942   0.16631141   0.39068748]\n",
      " [ -1.38467016   0.16631141   0.21382895   0.35305092]\n",
      " [ -2.23765451   0.39068748   0.35305092   0.82067686]]\n",
      "[[ 10.94457858  -0.91726626  -0.9179324   -1.91457961]\n",
      " [ -0.91726626   2.09132711   0.23381297   0.41211479]\n",
      " [ -0.9179324    0.23381297   0.17719159   0.32940317]\n",
      " [ -1.91457961   0.41211479   0.32940317   0.7860379 ]]\n",
      "[[ 11.04794034   1.39666056  -0.9876544   -2.0340396 ]\n",
      " [  1.39666056   2.0041746    0.02220446   0.14033219]\n",
      " [ -0.9876544    0.02220446   0.19217961   0.35027536]\n",
      " [ -2.0340396    0.14033219   0.35027536   0.80691009]]\n",
      "[[ 14.2043044   -0.54023452  -1.29851685  -2.15805152]\n",
      " [ -0.54023452   1.36857192   0.20550228   0.32918113]\n",
      " [ -1.29851685   0.20550228   0.22637447   0.37170267]\n",
      " [ -2.15805152   0.32918113   0.37170267   0.81867846]]\n",
      "[[ 6.72439882  0.15420998 -0.62760908 -1.51534341]\n",
      " [ 0.15420998  2.42028619  0.12800871  0.24669156]\n",
      " [-0.62760908  0.12800871  0.17019719  0.32285286]\n",
      " [-1.51534341  0.24669156  0.32285286  0.79858342]]\n",
      "[[ 14.20841222   0.08681944  -1.38034029  -2.29660735]\n",
      " [  0.08681944   1.47459822   0.14654944   0.36515235]\n",
      " [ -1.38034029   0.14654944   0.2509104    0.41133763]\n",
      " [ -2.29660735   0.36515235   0.41133763   0.89583896]]\n",
      "[[ 10.94857538  -1.06947784  -1.08313358  -2.20345964]\n",
      " [ -1.06947784   2.4034108    0.25301983   0.41688875]\n",
      " [ -1.08313358   0.25301983   0.22737368   0.41511239]\n",
      " [ -2.20345964   0.41688875   0.41511239   0.97410968]]\n",
      "[[ 11.34214944   0.74062978  -1.17494903  -2.43260967]\n",
      " [  0.74062978   2.3914204    0.06783463   0.2314815 ]\n",
      " [ -1.17494903   0.06783463   0.24436009   0.45285997]\n",
      " [ -2.43260967   0.2314815    0.45285997   1.0762502 ]]\n",
      "[[ 14.00646266  -0.55666582  -1.47259982  -2.72160072]\n",
      " [ -0.55666582   1.99407157   0.20827784   0.42188475]\n",
      " [ -1.47259982   0.20827784   0.27966518   0.49416027]\n",
      " [ -2.72160072   0.42188475   0.49416027   1.169842  ]]\n",
      "[[ 11.85651577  -0.78548279  -1.28741462  -2.64355204]\n",
      " [ -0.78548279   2.5547342    0.23003821   0.42099657]\n",
      " [ -1.28741462   0.23003821   0.26367797   0.49704685]\n",
      " [ -2.64355204   0.42099657   0.49704685   1.22180044]]\n",
      "[[ 9.14845977  0.48916426 -1.04360964 -2.28395081]\n",
      " [ 0.48916426  2.54618548  0.08737455  0.30775382]\n",
      " [-1.04360964  0.08737455  0.23947511  0.4639622 ]\n",
      " [-2.28395081  0.30775382  0.4639622   1.19537713]]\n",
      "[[ 10.64792698  -1.0856871   -1.22435395  -2.36610731]\n",
      " [ -1.0856871    2.06545892   0.26401104   0.54745097]\n",
      " [ -1.22435395   0.26401104   0.25612845   0.47184479]\n",
      " [ -2.36610731   0.54745097   0.47184479   1.17561516]]\n",
      "[[ 8.77620199 -0.67856831 -1.04449782 -2.16782148]\n",
      " [-0.67856831  2.2963853   0.20894397  0.43376414]\n",
      " [-1.04449782  0.20894397  0.23303581  0.44697579]\n",
      " [-2.16782148  0.43376414  0.44697579  1.12343468]]\n",
      "[[ 6.95521418  0.13777868 -0.85587093 -1.81554771]\n",
      " [ 0.13777868  2.08755235  0.10613732  0.32240877]\n",
      " [-0.85587093  0.10613732  0.20738966  0.40112358]\n",
      " [-1.81554771  0.32240877  0.40112358  1.04360964]]\n",
      "[[ 7.84128318 -0.87185814 -0.95967678 -1.85185201]\n",
      " [-0.87185814  1.82054372  0.2244871   0.46895821]\n",
      " [-0.95967678  0.2244871   0.21449509  0.39979131]\n",
      " [-1.85185201  0.46895821  0.39979131  1.0145218 ]]\n",
      "[[ 7.36222194 -0.44164672 -0.92115204 -1.84308124]\n",
      " [-0.44164672  1.94821936  0.16930901  0.3778089 ]\n",
      " [-0.92115204  0.16930901  0.20861091  0.39601655]\n",
      " [-1.84308124  0.3778089   0.39601655  0.99753539]]\n",
      "[[ 6.58084698 -0.01154632 -0.84132701 -1.71529457]\n",
      " [-0.01154632  1.87350135  0.11324275  0.29243274]\n",
      " [-0.84132701  0.11324275  0.19739765  0.37869707]\n",
      " [-1.71529457  0.29243274  0.37869707  0.96533892]]\n",
      "[[  6.57562893e+00  -4.66293670e-03  -8.49986748e-01  -1.65023550e+00]\n",
      " [ -4.66293670e-03   1.58251190e+00   1.11355369e-01   2.79776202e-01]\n",
      " [ -8.49986748e-01   1.11355369e-01   1.97064587e-01   3.69260178e-01]\n",
      " [ -1.65023550e+00   2.79776202e-01   3.69260178e-01   9.39803790e-01]]\n",
      "[[ 5.95890004 -0.28499425 -0.77660101 -1.57462932]\n",
      " [-0.28499425  1.72750703  0.14444002  0.31885605]\n",
      " [-0.77660101  0.14444002  0.18740565  0.36004533]\n",
      " [-1.57462932  0.31885605  0.36004533  0.92281738]]\n"
     ]
    }
   ],
   "source": [
    "gamma = 0.05\n",
    "a = np.array([4.5,0.6,0.,0.]) # initial parameters\n",
    "sim_rvs = []             # for plotting\n",
    "\n",
    "lastp = 1e200\n",
    "lasta = a\n",
    "lastgradient = []\n",
    "\n",
    "sim_rv0 = simulation_rv(a)\n",
    "\n",
    "N_grid = 20\n",
    "a_s = np.linspace(4.0,6.0,N_grid)\n",
    "\n",
    "errs = []\n",
    "gradients = []\n",
    "hessians = []\n",
    "\n",
    "for i,at in enumerate(a_s):\n",
    "    a[0] = at\n",
    "    err, gradient, hessian = simulation(a)\n",
    "    # print hessian\n",
    "    errs.append(err)\n",
    "    gradients.append(gradient[0])\n",
    "    hessians.append(hessian[0,0])\n",
    "    \n",
    "\n",
    "        "
   ]
  },
  {
   "cell_type": "code",
   "execution_count": 100,
   "metadata": {
    "collapsed": false
   },
   "outputs": [
    {
     "data": {
      "image/png": "[encoded data removed]",
      "text/plain": [
       "<matplotlib.figure.Figure at 0x10a3c26d0>"
      ]
     },
     "metadata": {},
     "output_type": "display_data"
    }
   ],
   "source": [
    "fig = plt.figure(figsize=(12,5))\n",
    "plt.ylim([0,18])\n",
    "plt.scatter(a_s, errs, color=\"k\");\n",
    "\n",
    "def f(a,i):\n",
    "    da = a_s[i] - a\n",
    "    return errs[i] + gradients[i]*da + hessians[i]*da*da\n",
    "\n",
    "a_s_fine = np.linspace(a_s[0],a_s[-1],N_grid*10)\n",
    "err_fine = np.zeros(N_grid*10)\n",
    "for i,a in enumerate(a_s_fine):\n",
    "    err_fine[i] = f(a,18)\n",
    "plt.plot(a_s_fine, err_fine, color=\"r\");\n",
    "plt.scatter(a_s, hessians, color=\"g\");\n",
    "plt.scatter(a_s, gradients, color=\"b\");\n"
   ]
  },
  {
   "cell_type": "code",
   "execution_count": 121,
   "metadata": {
    "collapsed": false
   },
   "outputs": [
    {
     "data": {
      "image/png": "[encoded data removed]",
      "text/plain": [
       "<matplotlib.figure.Figure at 0x10d4e2510>"
      ]
     },
     "metadata": {},
     "output_type": "display_data"
    }
   ],
   "source": [
    "fig = plt.figure(figsize=(12,5))\n",
    "plt.scatter(data_t, data_rv, color=\"k\");\n",
    "plt.plot(data_t, data_rv, color=\"k\");\n",
    "plt.plot(data_t, sim_rv0,color=\"g\");\n",
    "plt.plot(data_t, sim_rv1,color=\"r\");\n"
   ]
  },
  {
   "cell_type": "markdown",
   "metadata": {},
   "source": [
    "Black curve is data, green curve is initial guess, red curve is final \"fit\"."
   ]
  },
  {
   "cell_type": "code",
   "execution_count": 49,
   "metadata": {
    "collapsed": false
   },
   "outputs": [
    {
     "data": {
      "image/png": "[encoded data removed]",
      "text/plain": [
       "<matplotlib.figure.Figure at 0x10d604310>"
      ]
     },
     "metadata": {},
     "output_type": "display_data"
    }
   ],
   "source": [
    "plt.plot(errs);"
   ]
  },
  {
   "cell_type": "code",
   "execution_count": null,
   "metadata": {
    "collapsed": true
   },
   "outputs": [],
   "source": []
  }
 ],
 "metadata": {
  "kernelspec": {
   "display_name": "Python 2",
   "language": "python",
   "name": "python2"
  },
  "language_info": {
   "codemirror_mode": {
    "name": "ipython",
    "version": 2
   },
   "file_extension": ".py",
   "mimetype": "text/x-python",
   "name": "python",
   "nbconvert_exporter": "python",
   "pygments_lexer": "ipython2",
   "version": "2.7.6"
  }
 },
 "nbformat": 4,
 "nbformat_minor": 0
}
